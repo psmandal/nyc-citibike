{
 "cells": [
  {
   "cell_type": "markdown",
   "id": "a2b6fc3e-b311-4078-bad0-c96233bf89f7",
   "metadata": {},
   "source": [
    "# Plot Map using KeplerGl"
   ]
  },
  {
   "cell_type": "code",
   "execution_count": 1,
   "id": "9e72749b-d13f-4dd1-9d59-14887fc30a2a",
   "metadata": {},
   "outputs": [],
   "source": [
    "import pandas as pd\n",
    "import os\n",
    "from keplergl import KeplerGl\n",
    "from pyproj import CRS\n",
    "import numpy as np\n",
    "from matplotlib import pyplot as plt"
   ]
  },
  {
   "cell_type": "code",
   "execution_count": 2,
   "id": "bb642730-7e10-48a8-9c33-708bdb0e71ba",
   "metadata": {},
   "outputs": [],
   "source": [
    "df = pd.read_csv('df_final_locations_for_map.csv', index_col = 0)"
   ]
  },
  {
   "cell_type": "code",
   "execution_count": 3,
   "id": "17e8d0f4-c40d-49b0-a107-0f734fb2eb37",
   "metadata": {},
   "outputs": [
    {
     "name": "stdout",
     "output_type": "stream",
     "text": [
      "User Guide: https://docs.kepler.gl/docs/keplergl-jupyter\n"
     ]
    },
    {
     "data": {
      "application/vnd.jupyter.widget-view+json": {
       "model_id": "f019468ca1ff4926b08a33d35bb57677",
       "version_major": 2,
       "version_minor": 0
      },
      "text/plain": [
       "KeplerGl(data={'data_1':             start_station_name       end_station_name  trips  start_lat  \\\n",
       "0         …"
      ]
     },
     "execution_count": 3,
     "metadata": {},
     "output_type": "execute_result"
    }
   ],
   "source": [
    "# Create KeplerGl instance\n",
    "\n",
    "m = KeplerGl(height = 700, data={\"data_1\": df})\n",
    "m"
   ]
  },
  {
   "cell_type": "markdown",
   "id": "a3e9ebef-2104-43c1-9901-5dc2b6bb2f76",
   "metadata": {},
   "source": [
    "### Kepler Map: NYC Citibike Trip Flows\n",
    "#### This Kepler map visualizes bike-sharing traffic in New York City using arcs between start and end stations. Each arc represents a flow of trips, with thickness and color intensity indicating the number of rides between two locations.\n",
    "\n",
    "#### A filter on trip count allows focusing on the most frequent trip connections.\n",
    "\n",
    "#### This map was created to explore spatial patterns of bikeshare usage, revealing hotspots like downtown Manhattan, Central Park, and Brooklyn waterfronts. These areas likely reflect a mix of commuter routes and tourist zones, as supported by the data and city context."
   ]
  },
  {
   "cell_type": "code",
   "execution_count": 6,
   "id": "7fc98cc6-6a5f-40d7-8d50-75353e0c8722",
   "metadata": {},
   "outputs": [],
   "source": [
    "config = m.config"
   ]
  },
  {
   "cell_type": "code",
   "execution_count": 7,
   "id": "fac7c57a-086e-44a7-bccb-2e3cf769c7ce",
   "metadata": {},
   "outputs": [
    {
     "data": {
      "text/plain": [
       "{'version': 'v1',\n",
       " 'config': {'visState': {'filters': [],\n",
       "   'layers': [{'id': 'uxffy8c',\n",
       "     'type': 'point',\n",
       "     'config': {'dataId': 'data_1',\n",
       "      'label': 'start',\n",
       "      'color': [18, 147, 154],\n",
       "      'highlightColor': [252, 242, 26, 255],\n",
       "      'columns': {'lat': 'start_lat', 'lng': 'start_lng'},\n",
       "      'isVisible': True,\n",
       "      'visConfig': {'radius': 10,\n",
       "       'fixedRadius': False,\n",
       "       'opacity': 0.8,\n",
       "       'outline': False,\n",
       "       'thickness': 2,\n",
       "       'strokeColor': None,\n",
       "       'colorRange': {'name': 'Global Warming',\n",
       "        'type': 'sequential',\n",
       "        'category': 'Uber',\n",
       "        'colors': ['#5A1846',\n",
       "         '#900C3F',\n",
       "         '#C70039',\n",
       "         '#E3611C',\n",
       "         '#F1920E',\n",
       "         '#FFC300']},\n",
       "       'strokeColorRange': {'name': 'Global Warming',\n",
       "        'type': 'sequential',\n",
       "        'category': 'Uber',\n",
       "        'colors': ['#5A1846',\n",
       "         '#900C3F',\n",
       "         '#C70039',\n",
       "         '#E3611C',\n",
       "         '#F1920E',\n",
       "         '#FFC300']},\n",
       "       'radiusRange': [0, 50],\n",
       "       'filled': True},\n",
       "      'hidden': False,\n",
       "      'textLabel': [{'field': None,\n",
       "        'color': [255, 255, 255],\n",
       "        'size': 18,\n",
       "        'offset': [0, 0],\n",
       "        'anchor': 'start',\n",
       "        'alignment': 'center',\n",
       "        'outlineWidth': 0,\n",
       "        'outlineColor': [255, 0, 0, 255],\n",
       "        'background': False,\n",
       "        'backgroundColor': [0, 0, 200, 255]}]},\n",
       "     'visualChannels': {'colorField': {'name': 'trips', 'type': 'integer'},\n",
       "      'colorScale': 'quantile',\n",
       "      'strokeColorField': None,\n",
       "      'strokeColorScale': 'quantile',\n",
       "      'sizeField': None,\n",
       "      'sizeScale': 'linear'}},\n",
       "    {'id': 'xdp7rq8',\n",
       "     'type': 'point',\n",
       "     'config': {'dataId': 'data_1',\n",
       "      'label': 'end',\n",
       "      'color': [221, 178, 124],\n",
       "      'highlightColor': [252, 242, 26, 255],\n",
       "      'columns': {'lat': 'end_lat', 'lng': 'end_lng'},\n",
       "      'isVisible': False,\n",
       "      'visConfig': {'radius': 10,\n",
       "       'fixedRadius': False,\n",
       "       'opacity': 0.8,\n",
       "       'outline': False,\n",
       "       'thickness': 2,\n",
       "       'strokeColor': None,\n",
       "       'colorRange': {'name': 'Global Warming',\n",
       "        'type': 'sequential',\n",
       "        'category': 'Uber',\n",
       "        'colors': ['#5A1846',\n",
       "         '#900C3F',\n",
       "         '#C70039',\n",
       "         '#E3611C',\n",
       "         '#F1920E',\n",
       "         '#FFC300']},\n",
       "       'strokeColorRange': {'name': 'Global Warming',\n",
       "        'type': 'sequential',\n",
       "        'category': 'Uber',\n",
       "        'colors': ['#5A1846',\n",
       "         '#900C3F',\n",
       "         '#C70039',\n",
       "         '#E3611C',\n",
       "         '#F1920E',\n",
       "         '#FFC300']},\n",
       "       'radiusRange': [0, 50],\n",
       "       'filled': True},\n",
       "      'hidden': False,\n",
       "      'textLabel': [{'field': None,\n",
       "        'color': [255, 255, 255],\n",
       "        'size': 18,\n",
       "        'offset': [0, 0],\n",
       "        'anchor': 'start',\n",
       "        'alignment': 'center',\n",
       "        'outlineWidth': 0,\n",
       "        'outlineColor': [255, 0, 0, 255],\n",
       "        'background': False,\n",
       "        'backgroundColor': [0, 0, 200, 255]}]},\n",
       "     'visualChannels': {'colorField': {'name': 'trips', 'type': 'integer'},\n",
       "      'colorScale': 'quantile',\n",
       "      'strokeColorField': None,\n",
       "      'strokeColorScale': 'quantile',\n",
       "      'sizeField': None,\n",
       "      'sizeScale': 'linear'}},\n",
       "    {'id': 'p8szgey',\n",
       "     'type': 'arc',\n",
       "     'config': {'dataId': 'data_1',\n",
       "      'label': 'start -> end arc',\n",
       "      'color': [146, 38, 198],\n",
       "      'highlightColor': [252, 242, 26, 255],\n",
       "      'columns': {'lat0': 'start_lat',\n",
       "       'lng0': 'start_lng',\n",
       "       'lat1': 'end_lat',\n",
       "       'lng1': 'end_lng'},\n",
       "      'isVisible': False,\n",
       "      'visConfig': {'opacity': 0.8,\n",
       "       'thickness': 2,\n",
       "       'colorRange': {'name': 'Global Warming',\n",
       "        'type': 'sequential',\n",
       "        'category': 'Uber',\n",
       "        'colors': ['#5A1846',\n",
       "         '#900C3F',\n",
       "         '#C70039',\n",
       "         '#E3611C',\n",
       "         '#F1920E',\n",
       "         '#FFC300']},\n",
       "       'sizeRange': [0, 10],\n",
       "       'targetColor': None},\n",
       "      'hidden': False,\n",
       "      'textLabel': [{'field': None,\n",
       "        'color': [255, 255, 255],\n",
       "        'size': 18,\n",
       "        'offset': [0, 0],\n",
       "        'anchor': 'start',\n",
       "        'alignment': 'center',\n",
       "        'outlineWidth': 0,\n",
       "        'outlineColor': [255, 0, 0, 255],\n",
       "        'background': False,\n",
       "        'backgroundColor': [0, 0, 200, 255]}]},\n",
       "     'visualChannels': {'colorField': None,\n",
       "      'colorScale': 'quantile',\n",
       "      'sizeField': None,\n",
       "      'sizeScale': 'linear'}},\n",
       "    {'id': '8mphvqb',\n",
       "     'type': 'line',\n",
       "     'config': {'dataId': 'data_1',\n",
       "      'label': 'start -> end line',\n",
       "      'color': [136, 87, 44],\n",
       "      'highlightColor': [252, 242, 26, 255],\n",
       "      'columns': {'lat0': 'start_lat',\n",
       "       'lng0': 'start_lng',\n",
       "       'lat1': 'end_lat',\n",
       "       'lng1': 'end_lng'},\n",
       "      'isVisible': False,\n",
       "      'visConfig': {'opacity': 0.8,\n",
       "       'thickness': 2,\n",
       "       'colorRange': {'name': 'Global Warming',\n",
       "        'type': 'sequential',\n",
       "        'category': 'Uber',\n",
       "        'colors': ['#5A1846',\n",
       "         '#900C3F',\n",
       "         '#C70039',\n",
       "         '#E3611C',\n",
       "         '#F1920E',\n",
       "         '#FFC300']},\n",
       "       'sizeRange': [0, 10],\n",
       "       'targetColor': None,\n",
       "       'elevationScale': 1},\n",
       "      'hidden': False,\n",
       "      'textLabel': [{'field': None,\n",
       "        'color': [255, 255, 255],\n",
       "        'size': 18,\n",
       "        'offset': [0, 0],\n",
       "        'anchor': 'start',\n",
       "        'alignment': 'center',\n",
       "        'outlineWidth': 0,\n",
       "        'outlineColor': [255, 0, 0, 255],\n",
       "        'background': False,\n",
       "        'backgroundColor': [0, 0, 200, 255]}]},\n",
       "     'visualChannels': {'colorField': None,\n",
       "      'colorScale': 'quantile',\n",
       "      'sizeField': None,\n",
       "      'sizeScale': 'linear'}}],\n",
       "   'effects': [],\n",
       "   'interactionConfig': {'tooltip': {'fieldsToShow': {'data_1': [{'name': 'start_station_name',\n",
       "        'format': None},\n",
       "       {'name': 'end_station_name', 'format': None},\n",
       "       {'name': 'trips', 'format': None}]},\n",
       "     'compareMode': False,\n",
       "     'compareType': 'absolute',\n",
       "     'enabled': True},\n",
       "    'brush': {'size': 0.5, 'enabled': False},\n",
       "    'geocoder': {'enabled': False},\n",
       "    'coordinate': {'enabled': False}},\n",
       "   'layerBlending': 'normal',\n",
       "   'overlayBlending': 'normal',\n",
       "   'splitMaps': [],\n",
       "   'animationConfig': {'currentTime': None, 'speed': 1},\n",
       "   'editor': {'features': [], 'visible': True}},\n",
       "  'mapState': {'bearing': 0,\n",
       "   'dragRotate': False,\n",
       "   'latitude': 40.752343421347554,\n",
       "   'longitude': -73.94112362842797,\n",
       "   'pitch': 0,\n",
       "   'zoom': 8.661868175078078,\n",
       "   'isSplit': False,\n",
       "   'isViewportSynced': True,\n",
       "   'isZoomLocked': False,\n",
       "   'splitMapViewports': []},\n",
       "  'mapStyle': {'styleType': 'dark-matter',\n",
       "   'topLayerGroups': {},\n",
       "   'visibleLayerGroups': {'label': True,\n",
       "    'road': True,\n",
       "    'border': False,\n",
       "    'building': True,\n",
       "    'water': True,\n",
       "    'land': True,\n",
       "    '3d building': False},\n",
       "   'threeDBuildingColor': [15.035172933000911,\n",
       "    15.035172933000911,\n",
       "    15.035172933000911],\n",
       "   'backgroundColor': [0, 0, 0],\n",
       "   'mapStyles': {}}}}"
      ]
     },
     "execution_count": 7,
     "metadata": {},
     "output_type": "execute_result"
    }
   ],
   "source": [
    "config"
   ]
  },
  {
   "cell_type": "code",
   "execution_count": 8,
   "id": "b37ded41-389e-44a3-b311-eaffefb05a24",
   "metadata": {},
   "outputs": [],
   "source": [
    "import json\n",
    "with open(\"config.json\", \"w\") as outfile:\n",
    "    json.dump(config, outfile)"
   ]
  },
  {
   "cell_type": "code",
   "execution_count": 9,
   "id": "29332dc0-34c1-404a-ba7c-f0aa156ae803",
   "metadata": {},
   "outputs": [
    {
     "name": "stdout",
     "output_type": "stream",
     "text": [
      "Map saved to nyc-citibike.html!\n"
     ]
    }
   ],
   "source": [
    "m.save_to_html(file_name = 'nyc-citibike.html', read_only = False, config = config)"
   ]
  },
  {
   "cell_type": "markdown",
   "id": "291f7781-1282-4442-98b0-e91744e65657",
   "metadata": {},
   "source": [
    "### Observations from the Map\n",
    "#### Busy Zones: Midtown Manhattan, Central Park area, and downtown Manhattan have extremely high trip volumes.\n",
    "\n",
    "#### Major Corridors: Heavy bike traffic connects Union Square, Times Square, Central Park South, and Brooklyn waterfront areas.\n",
    "\n",
    "#### Possible Reasons: These are high-density commercial, tourist, and residential areas where bike sharing is heavily used for commuting and recreation. Central Park also attracts a lot of casual users, especially in summer.\n",
    "\n",
    "#### Interesting Note: Cross-borough trips (e.g., Brooklyn to Manhattan) appear less frequent than intra-borough trips, possibly due to bridge crossing difficulty."
   ]
  },
  {
   "cell_type": "code",
   "execution_count": null,
   "id": "02fa86f3-5f60-4702-a318-5b5127b59c2e",
   "metadata": {},
   "outputs": [],
   "source": []
  }
 ],
 "metadata": {
  "kernelspec": {
   "display_name": "Python (venv_citibike_py310)",
   "language": "python",
   "name": "venv_citibike_py310"
  },
  "language_info": {
   "codemirror_mode": {
    "name": "ipython",
    "version": 3
   },
   "file_extension": ".py",
   "mimetype": "text/x-python",
   "name": "python",
   "nbconvert_exporter": "python",
   "pygments_lexer": "ipython3",
   "version": "3.10.16"
  }
 },
 "nbformat": 4,
 "nbformat_minor": 5
}
