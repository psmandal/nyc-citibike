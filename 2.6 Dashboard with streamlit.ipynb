{
 "cells": [
  {
   "cell_type": "markdown",
   "id": "0fbcd12f-1a56-4013-af9a-d734ad0a5905",
   "metadata": {},
   "source": [
    "# Making Dashboard with Streamlit"
   ]
  },
  {
   "cell_type": "code",
   "execution_count": null,
   "id": "78a521a5-0076-4771-aa9a-9dc0e67181cc",
   "metadata": {},
   "outputs": [],
   "source": [
    "# Import libraries\n",
    "\n",
    "import streamlit as st\n",
    "import pandas as pd\n",
    "import numpy as np\n",
    "import plotly.express as px\n",
    "from plotly.subplots import make_subplots\n",
    "import plotly.graph_objects as go\n",
    "import matplotlib.pyplot as plt\n",
    "from datetime import datetime as dt\n",
    "from streamlit_keplergl import keplergl_static"
   ]
  },
  {
   "cell_type": "code",
   "execution_count": null,
   "id": "3a5b5116-5e5b-4caa-be6b-13fb7855aa52",
   "metadata": {},
   "outputs": [],
   "source": [
    "df = pd.read_csv('nyc-citibike_data.csv', index_col = 0, low_memory=False)\n",
    "df.dtypes"
   ]
  },
  {
   "cell_type": "code",
   "execution_count": null,
   "id": "5d7329f3-854d-45a8-a6fa-57edb89a2e2c",
   "metadata": {},
   "outputs": [],
   "source": [
    "df.head()"
   ]
  },
  {
   "cell_type": "code",
   "execution_count": null,
   "id": "b11c7a56-72b8-4491-9783-ac58ea8af656",
   "metadata": {},
   "outputs": [],
   "source": [
    "df_group = pd.read_csv('df_final_locations_for_map.csv')\n",
    "df_group.dtypes"
   ]
  },
  {
   "cell_type": "markdown",
   "id": "4421d031-2fab-4206-bc99-da2bf5be2063",
   "metadata": {},
   "source": [
    "### Create a season column"
   ]
  },
  {
   "cell_type": "code",
   "execution_count": null,
   "id": "d207fae5-e8eb-418c-9d20-b1fdfb31b572",
   "metadata": {},
   "outputs": [],
   "source": [
    "df['year_month'] = pd.to_datetime(df['year_month'], format='%Y-%m')\n",
    "\n",
    "#Extract the month\n",
    "df['month'] = df['year_month'].dt.month\n",
    "\n",
    "df['season'] = [\n",
    "\"winter\" if (month == 12 or 1 <= month <= 4)\n",
    "    else \"spring\" if (4 < month <= 5)\n",
    "    else \"summer\" if (6 <= month <= 9)\n",
    "    else \"fall\"\n",
    "for month in df['month']\n",
    "    ]"
   ]
  },
  {
   "cell_type": "code",
   "execution_count": null,
   "id": "22641da1-8721-48ed-8332-65db40e149f4",
   "metadata": {},
   "outputs": [],
   "source": [
    "df[['year_month', 'month', 'season']].head()\n",
    "df['season'].value_counts()"
   ]
  },
  {
   "cell_type": "code",
   "execution_count": null,
   "id": "ddb8f6a8-8781-4396-aa17-1f071bf9fcfc",
   "metadata": {},
   "outputs": [],
   "source": [
    "df.shape"
   ]
  },
  {
   "cell_type": "code",
   "execution_count": null,
   "id": "7888412a-d1cd-4047-b78d-9ae0df5706a8",
   "metadata": {},
   "outputs": [],
   "source": [
    "df.columns"
   ]
  },
  {
   "cell_type": "markdown",
   "id": "b9eb99f9-7f0e-4cd8-bb05-d1d0c519b3d9",
   "metadata": {},
   "source": [
    "# plotly charts"
   ]
  },
  {
   "cell_type": "code",
   "execution_count": null,
   "id": "89b02003-027f-4927-b4e6-74b33fa656c3",
   "metadata": {},
   "outputs": [],
   "source": [
    "# Groupby\n",
    "df['value'] = 1 \n",
    "df_groupby_bar = df.groupby('start_station_name', as_index=False).agg({'value': 'sum'})\n",
    "top20 = df_groupby_bar.nlargest(20, 'value')"
   ]
  },
  {
   "cell_type": "code",
   "execution_count": null,
   "id": "04cfe7c6-eaac-42e9-b3a5-c0c18bf675b7",
   "metadata": {},
   "outputs": [],
   "source": [
    "fig = go.Figure(go.Bar(x = top20['start_station_name'], y = top20['value'], marker={'color': top20['value'],'colorscale': 'Blues'}))\n",
    "fig.show()"
   ]
  },
  {
   "cell_type": "code",
   "execution_count": null,
   "id": "a5c8fdd3-ba24-4b4f-a0e6-b58ceda9080d",
   "metadata": {
    "scrolled": true
   },
   "outputs": [],
   "source": [
    "## Bar chart\n",
    "\n",
    "fig.update_layout(\n",
    "    title = 'Top 20 most popular bike stations in New York',\n",
    "    xaxis_title = 'Start stations',\n",
    "    yaxis_title ='Sum of trips',\n",
    "    width = 900, height = 600\n",
    ")"
   ]
  },
  {
   "cell_type": "code",
   "execution_count": null,
   "id": "f9bf3367-3db2-4751-9fb5-e3fd19f27022",
   "metadata": {},
   "outputs": [],
   "source": [
    "# Save the top 20 stations as a csv file \n",
    "top20.to_csv('top20_station.csv')"
   ]
  },
  {
   "cell_type": "markdown",
   "id": "af84d8e8-5278-44a4-9ac4-876583f7139f",
   "metadata": {},
   "source": [
    "## Line charts"
   ]
  },
  {
   "cell_type": "code",
   "execution_count": null,
   "id": "8036f549-f9bf-4094-8917-fc181c6dd958",
   "metadata": {},
   "outputs": [],
   "source": [
    "# Create trip counts\n",
    "trip_counts = df.groupby('date').size().reset_index(name='trip_count')\n",
    "\n",
    "# Merge trip counts back to df\n",
    "df_weather = df[['date', 'avgTemp']].drop_duplicates()\n",
    "df_weather = pd.merge(df_weather, trip_counts, on='date', how='left').set_index('date')"
   ]
  },
  {
   "cell_type": "code",
   "execution_count": null,
   "id": "5f814736-7241-4021-b125-cd03999b08e5",
   "metadata": {},
   "outputs": [],
   "source": [
    "df_weather.to_csv('trips_weather.csv')"
   ]
  },
  {
   "cell_type": "code",
   "execution_count": null,
   "id": "9ebd5515-7a54-433e-9268-ef1fbac71ca9",
   "metadata": {},
   "outputs": [],
   "source": [
    "df_weather.dtypes"
   ]
  },
  {
   "cell_type": "code",
   "execution_count": null,
   "id": "f4e9f70d-e236-4f5e-a574-ff3fc4f7db50",
   "metadata": {},
   "outputs": [],
   "source": [
    "# Load and prepare data\n",
    "df_weather = pd.read_csv('trips_weather.csv', parse_dates=['date'])\n",
    "df_weather.sort_values('date', inplace=True)\n",
    "\n",
    "# Create the dual-axis figure\n",
    "fig = make_subplots(specs=[[{\"secondary_y\": True}]])\n",
    "\n",
    "# Add bike ride count line (left y-axis)\n",
    "fig.add_trace(\n",
    "    go.Scatter(\n",
    "        x=df_weather['date'],\n",
    "        y=df_weather['trip_count'],\n",
    "        name='Daily Bike Rides',\n",
    "        line=dict(color='blue')\n",
    "    ),\n",
    "    secondary_y=False\n",
    ")\n",
    "\n",
    "# Add temperature line (right y-axis)\n",
    "fig.add_trace(\n",
    "    go.Scatter(\n",
    "        x=df_weather['date'],\n",
    "        y=df_weather['avgTemp'],\n",
    "        name='Avg Temperature (°C)',\n",
    "        line=dict(color='red')\n",
    "    ),\n",
    "    secondary_y=True\n",
    ")\n",
    "\n",
    "# Customize layout\n",
    "fig.update_layout(\n",
    "    title='Bike Rides and Temperature Over Time in NYC',\n",
    "    xaxis_title='Date',\n",
    "    yaxis_title='Trip Count',\n",
    "    yaxis2_title='Avg Temperature (°C)',\n",
    "    legend=dict(x=0.01, y=0.99),\n",
    "    plot_bgcolor='white',\n",
    "    title_x=0.5\n",
    ")\n",
    "\n",
    "fig.show()"
   ]
  },
  {
   "cell_type": "code",
   "execution_count": null,
   "id": "f50e6f19-b109-492f-a3f6-d41c10cedbed",
   "metadata": {},
   "outputs": [],
   "source": [
    "# cleaning up \n",
    "import gc # this is a garbage collector\n",
    "gc.collect()"
   ]
  },
  {
   "cell_type": "code",
   "execution_count": null,
   "id": "0675d293-68ef-4e10-aee5-f3638ab93434",
   "metadata": {},
   "outputs": [],
   "source": [
    "df.columns"
   ]
  },
  {
   "cell_type": "code",
   "execution_count": null,
   "id": "7c9dc43b-23ec-4500-8a74-343ca7e09318",
   "metadata": {},
   "outputs": [],
   "source": [
    "df_1 = df.drop(columns = {'ride_id', \n",
    "                          'rideable_type', \n",
    "                          'started_at', \n",
    "                          'ended_at', \n",
    "                          'start_station_id', \n",
    "                          'end_station_id', \n",
    "                          'member_casual', \n",
    "                          'year_month', \n",
    "                          '_merge'}\n",
    "              ) "
   ]
  },
  {
   "cell_type": "code",
   "execution_count": null,
   "id": "0e1b4ffe-fb97-4707-a56a-ceba5a9f9679",
   "metadata": {},
   "outputs": [],
   "source": [
    "df_1.columns"
   ]
  },
  {
   "cell_type": "code",
   "execution_count": null,
   "id": "32ce2b27-073b-405e-b52e-6062b5ccee03",
   "metadata": {},
   "outputs": [],
   "source": []
  }
 ],
 "metadata": {
  "kernelspec": {
   "display_name": "Python (venv_citibike_py310)",
   "language": "python",
   "name": "venv_citibike_py310"
  },
  "language_info": {
   "codemirror_mode": {
    "name": "ipython",
    "version": 3
   },
   "file_extension": ".py",
   "mimetype": "text/x-python",
   "name": "python",
   "nbconvert_exporter": "python",
   "pygments_lexer": "ipython3",
   "version": "3.10.16"
  }
 },
 "nbformat": 4,
 "nbformat_minor": 5
}
