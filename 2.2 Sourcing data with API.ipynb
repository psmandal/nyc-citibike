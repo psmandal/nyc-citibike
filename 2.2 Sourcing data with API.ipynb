{
 "cells": [
  {
   "cell_type": "markdown",
   "id": "5c3ef81f-3c48-4421-bee2-4c0d6c69abf4",
   "metadata": {},
   "source": [
    "# NYC citibike data - 2023"
   ]
  },
  {
   "cell_type": "markdown",
   "id": "bf720d58-638e-4be1-a3c7-d66d6e9a2fd9",
   "metadata": {},
   "source": [
    "## Import and concatenate data"
   ]
  },
  {
   "cell_type": "code",
   "execution_count": 2,
   "id": "17bf486e-9365-46ba-8cc3-9b368c54db6a",
   "metadata": {},
   "outputs": [],
   "source": [
    "# import libraries\n",
    "import pandas as pd \n",
    "import numpy as np\n",
    "import os \n",
    "import requests\n",
    "import json\n",
    "from datetime import datetime\n",
    "import shutil # To export all files into a single csv folder\n",
    "import matplotlib.pyplot as plt"
   ]
  },
  {
   "cell_type": "markdown",
   "id": "0c9cc611-9296-482d-b0ac-ea61715477b0",
   "metadata": {},
   "source": [
    "### Export all csv files in one folder"
   ]
  },
  {
   "cell_type": "code",
   "execution_count": 3,
   "id": "c20a07f3-ca19-49b5-b9d5-d882f7495f9c",
   "metadata": {},
   "outputs": [
    {
     "name": "stdout",
     "output_type": "stream",
     "text": [
      "All CSV files have been copied to {destination_folder}\n"
     ]
    }
   ],
   "source": [
    "# Define paths\n",
    "source_folder = r\"2023-citibike-tripdata\"\n",
    "destination_folder = r\"2023-citibike-tripdata-csvs\"  # Name of the new folder\n",
    "\n",
    "# Create destination folder if it doesn't exist\n",
    "os.makedirs(destination_folder, exist_ok=True)\n",
    "\n",
    "# Loop through and copy .csv files\n",
    "for name in os.listdir(source_folder):\n",
    "    full_path = os.path.join(source_folder, name)\n",
    "\n",
    "    if os.path.isdir(full_path):\n",
    "        for file in os.listdir(full_path):\n",
    "            if file.endswith('.csv'):\n",
    "                source_file = os.path.join(full_path, file)\n",
    "                destination_file = os.path.join(destination_folder, file)\n",
    "\n",
    "                # Copy the CSV file to the new folder\n",
    "                shutil.copy2(source_file, destination_file)\n",
    "\n",
    "print(\"All CSV files have been copied to {destination_folder}\")"
   ]
  },
  {
   "cell_type": "code",
   "execution_count": 4,
   "id": "4dd67e37-ce7b-40f6-91cd-e96475e05f0b",
   "metadata": {},
   "outputs": [],
   "source": [
    "# Step 1: Create a list with all files in the folder using a list compehension\n",
    "folderpath = r\"2023-citibike-tripdata-csvs\" # make sure to put the 'r' in front\n",
    "filepaths  = [os.path.join(folderpath, name) for name in os.listdir(folderpath)]"
   ]
  },
  {
   "cell_type": "code",
   "execution_count": 5,
   "id": "15b25602-7f4f-4792-8346-a865aea9cada",
   "metadata": {},
   "outputs": [
    {
     "data": {
      "text/plain": [
       "['2023-citibike-tripdata-csvs/202312-citibike-tripdata_2.csv',\n",
       " '2023-citibike-tripdata-csvs/202301-citibike-tripdata_1.csv',\n",
       " '2023-citibike-tripdata-csvs/202312-citibike-tripdata_3.csv',\n",
       " '2023-citibike-tripdata-csvs/202305-citibike-tripdata_4.csv',\n",
       " '2023-citibike-tripdata-csvs/202312-citibike-tripdata_1.csv',\n",
       " '2023-citibike-tripdata-csvs/202301-citibike-tripdata_2.csv',\n",
       " '2023-citibike-tripdata-csvs/202305-citibike-tripdata_1.csv',\n",
       " '2023-citibike-tripdata-csvs/202305-citibike-tripdata_2.csv',\n",
       " '2023-citibike-tripdata-csvs/202305-citibike-tripdata_3.csv',\n",
       " '2023-citibike-tripdata-csvs/202306-citibike-tripdata_2.csv',\n",
       " '2023-citibike-tripdata-csvs/202309-citibike-tripdata_3.csv',\n",
       " '2023-citibike-tripdata-csvs/202309-citibike-tripdata_2.csv',\n",
       " '2023-citibike-tripdata-csvs/202306-citibike-tripdata_3.csv',\n",
       " '2023-citibike-tripdata-csvs/202306-citibike-tripdata_1.csv',\n",
       " '2023-citibike-tripdata-csvs/202309-citibike-tripdata_1.csv',\n",
       " '2023-citibike-tripdata-csvs/202306-citibike-tripdata_4.csv',\n",
       " '2023-citibike-tripdata-csvs/202311-citibike-tripdata_1.csv',\n",
       " '2023-citibike-tripdata-csvs/202302-citibike-tripdata_2.csv',\n",
       " '2023-citibike-tripdata-csvs/202309-citibike-tripdata_4.csv',\n",
       " '2023-citibike-tripdata-csvs/202311-citibike-tripdata_2.csv',\n",
       " '2023-citibike-tripdata-csvs/202311-citibike-tripdata_3.csv',\n",
       " '2023-citibike-tripdata-csvs/202302-citibike-tripdata_1.csv',\n",
       " '2023-citibike-tripdata-csvs/202304-citibike-tripdata_3.csv',\n",
       " '2023-citibike-tripdata-csvs/202304-citibike-tripdata_2.csv',\n",
       " '2023-citibike-tripdata-csvs/202304-citibike-tripdata_1.csv',\n",
       " '2023-citibike-tripdata-csvs/202303-citibike-tripdata_1.csv',\n",
       " '2023-citibike-tripdata-csvs/202310-citibike-tripdata_3.csv',\n",
       " '2023-citibike-tripdata-csvs/202310-citibike-tripdata_2.csv',\n",
       " '2023-citibike-tripdata-csvs/202308-citibike-tripdata_4.csv',\n",
       " '2023-citibike-tripdata-csvs/202303-citibike-tripdata_2.csv',\n",
       " '2023-citibike-tripdata-csvs/202310-citibike-tripdata_1.csv',\n",
       " '2023-citibike-tripdata-csvs/202303-citibike-tripdata_3.csv',\n",
       " '2023-citibike-tripdata-csvs/202307-citibike-tripdata_4.csv',\n",
       " '2023-citibike-tripdata-csvs/202308-citibike-tripdata_1.csv',\n",
       " '2023-citibike-tripdata-csvs/202310-citibike-tripdata_4.csv',\n",
       " '2023-citibike-tripdata-csvs/202307-citibike-tripdata_1.csv',\n",
       " '2023-citibike-tripdata-csvs/202308-citibike-tripdata_2.csv',\n",
       " '2023-citibike-tripdata-csvs/202307-citibike-tripdata_3.csv',\n",
       " '2023-citibike-tripdata-csvs/202307-citibike-tripdata_2.csv',\n",
       " '2023-citibike-tripdata-csvs/202308-citibike-tripdata_3.csv']"
      ]
     },
     "execution_count": 5,
     "metadata": {},
     "output_type": "execute_result"
    }
   ],
   "source": [
    "filepaths"
   ]
  },
  {
   "cell_type": "code",
   "execution_count": 6,
   "id": "f79eb9f8-317f-4f0c-a287-beb5d80387ee",
   "metadata": {},
   "outputs": [
    {
     "data": {
      "text/html": [
       "<div>\n",
       "<style scoped>\n",
       "    .dataframe tbody tr th:only-of-type {\n",
       "        vertical-align: middle;\n",
       "    }\n",
       "\n",
       "    .dataframe tbody tr th {\n",
       "        vertical-align: top;\n",
       "    }\n",
       "\n",
       "    .dataframe thead th {\n",
       "        text-align: right;\n",
       "    }\n",
       "</style>\n",
       "<table border=\"1\" class=\"dataframe\">\n",
       "  <thead>\n",
       "    <tr style=\"text-align: right;\">\n",
       "      <th></th>\n",
       "      <th>ride_id</th>\n",
       "      <th>rideable_type</th>\n",
       "      <th>started_at</th>\n",
       "      <th>ended_at</th>\n",
       "      <th>start_station_name</th>\n",
       "      <th>start_station_id</th>\n",
       "      <th>end_station_name</th>\n",
       "      <th>end_station_id</th>\n",
       "      <th>start_lat</th>\n",
       "      <th>start_lng</th>\n",
       "      <th>end_lat</th>\n",
       "      <th>end_lng</th>\n",
       "      <th>member_casual</th>\n",
       "    </tr>\n",
       "  </thead>\n",
       "  <tbody>\n",
       "    <tr>\n",
       "      <th>0</th>\n",
       "      <td>5772778972800B87</td>\n",
       "      <td>electric_bike</td>\n",
       "      <td>2023-12-20 06:18:04.187</td>\n",
       "      <td>2023-12-20 06:24:50.461</td>\n",
       "      <td>W 41 St &amp; 8 Ave</td>\n",
       "      <td>6602.03</td>\n",
       "      <td>Madison Ave &amp; E 26 St</td>\n",
       "      <td>6131.12</td>\n",
       "      <td>40.756330</td>\n",
       "      <td>-73.989260</td>\n",
       "      <td>40.742685</td>\n",
       "      <td>-73.986713</td>\n",
       "      <td>member</td>\n",
       "    </tr>\n",
       "    <tr>\n",
       "      <th>1</th>\n",
       "      <td>32DD834BEA2ABA5B</td>\n",
       "      <td>classic_bike</td>\n",
       "      <td>2023-12-21 16:15:52.308</td>\n",
       "      <td>2023-12-21 16:21:22.124</td>\n",
       "      <td>46 Ave &amp; 5 St</td>\n",
       "      <td>6286.02</td>\n",
       "      <td>44 Dr &amp; Jackson Ave</td>\n",
       "      <td>6352.01</td>\n",
       "      <td>40.747310</td>\n",
       "      <td>-73.954510</td>\n",
       "      <td>40.747182</td>\n",
       "      <td>-73.943264</td>\n",
       "      <td>member</td>\n",
       "    </tr>\n",
       "    <tr>\n",
       "      <th>2</th>\n",
       "      <td>3B6B1AA2B94A01D1</td>\n",
       "      <td>classic_bike</td>\n",
       "      <td>2023-12-07 11:49:31.277</td>\n",
       "      <td>2023-12-07 11:56:07.264</td>\n",
       "      <td>46 Ave &amp; 5 St</td>\n",
       "      <td>6286.02</td>\n",
       "      <td>44 Dr &amp; Jackson Ave</td>\n",
       "      <td>6352.01</td>\n",
       "      <td>40.747310</td>\n",
       "      <td>-73.954510</td>\n",
       "      <td>40.747182</td>\n",
       "      <td>-73.943264</td>\n",
       "      <td>member</td>\n",
       "    </tr>\n",
       "    <tr>\n",
       "      <th>3</th>\n",
       "      <td>A8F4C66161031B63</td>\n",
       "      <td>electric_bike</td>\n",
       "      <td>2023-12-26 06:17:43.385</td>\n",
       "      <td>2023-12-26 06:24:11.386</td>\n",
       "      <td>W 41 St &amp; 8 Ave</td>\n",
       "      <td>6602.03</td>\n",
       "      <td>Madison Ave &amp; E 26 St</td>\n",
       "      <td>6131.12</td>\n",
       "      <td>40.756456</td>\n",
       "      <td>-73.989694</td>\n",
       "      <td>40.742685</td>\n",
       "      <td>-73.986713</td>\n",
       "      <td>member</td>\n",
       "    </tr>\n",
       "    <tr>\n",
       "      <th>4</th>\n",
       "      <td>A6176AFE373FB4C8</td>\n",
       "      <td>electric_bike</td>\n",
       "      <td>2023-12-21 06:58:24.078</td>\n",
       "      <td>2023-12-21 07:04:17.045</td>\n",
       "      <td>E 53 St &amp; 3 Ave</td>\n",
       "      <td>6617.02</td>\n",
       "      <td>1 Ave &amp; E 68 St</td>\n",
       "      <td>6822.09</td>\n",
       "      <td>40.757470</td>\n",
       "      <td>-73.969427</td>\n",
       "      <td>40.765005</td>\n",
       "      <td>-73.958185</td>\n",
       "      <td>member</td>\n",
       "    </tr>\n",
       "  </tbody>\n",
       "</table>\n",
       "</div>"
      ],
      "text/plain": [
       "            ride_id  rideable_type               started_at  \\\n",
       "0  5772778972800B87  electric_bike  2023-12-20 06:18:04.187   \n",
       "1  32DD834BEA2ABA5B   classic_bike  2023-12-21 16:15:52.308   \n",
       "2  3B6B1AA2B94A01D1   classic_bike  2023-12-07 11:49:31.277   \n",
       "3  A8F4C66161031B63  electric_bike  2023-12-26 06:17:43.385   \n",
       "4  A6176AFE373FB4C8  electric_bike  2023-12-21 06:58:24.078   \n",
       "\n",
       "                  ended_at start_station_name start_station_id  \\\n",
       "0  2023-12-20 06:24:50.461    W 41 St & 8 Ave          6602.03   \n",
       "1  2023-12-21 16:21:22.124      46 Ave & 5 St          6286.02   \n",
       "2  2023-12-07 11:56:07.264      46 Ave & 5 St          6286.02   \n",
       "3  2023-12-26 06:24:11.386    W 41 St & 8 Ave          6602.03   \n",
       "4  2023-12-21 07:04:17.045    E 53 St & 3 Ave          6617.02   \n",
       "\n",
       "        end_station_name end_station_id  start_lat  start_lng    end_lat  \\\n",
       "0  Madison Ave & E 26 St        6131.12  40.756330 -73.989260  40.742685   \n",
       "1    44 Dr & Jackson Ave        6352.01  40.747310 -73.954510  40.747182   \n",
       "2    44 Dr & Jackson Ave        6352.01  40.747310 -73.954510  40.747182   \n",
       "3  Madison Ave & E 26 St        6131.12  40.756456 -73.989694  40.742685   \n",
       "4        1 Ave & E 68 St        6822.09  40.757470 -73.969427  40.765005   \n",
       "\n",
       "     end_lng member_casual  \n",
       "0 -73.986713        member  \n",
       "1 -73.943264        member  \n",
       "2 -73.943264        member  \n",
       "3 -73.986713        member  \n",
       "4 -73.958185        member  "
      ]
     },
     "execution_count": 6,
     "metadata": {},
     "output_type": "execute_result"
    }
   ],
   "source": [
    "# Step 2: Read and concatenate all files simultaneously using generator\n",
    "# Load all CSVs with low_memory=False\n",
    "df = pd.concat((pd.read_csv(f, low_memory=False) for f in filepaths), ignore_index=True)\n",
    "\n",
    "# Check the first few rows\n",
    "df.head()"
   ]
  },
  {
   "cell_type": "code",
   "execution_count": 7,
   "id": "ab83d7cb-793e-447c-b5da-3fb41ded978f",
   "metadata": {},
   "outputs": [
    {
     "data": {
      "text/plain": [
       "(35107030, 13)"
      ]
     },
     "execution_count": 7,
     "metadata": {},
     "output_type": "execute_result"
    }
   ],
   "source": [
    "df.shape"
   ]
  },
  {
   "cell_type": "code",
   "execution_count": 8,
   "id": "da439545-aa47-4d68-8344-a39bea1bf290",
   "metadata": {},
   "outputs": [
    {
     "data": {
      "text/plain": [
       "ride_id                object\n",
       "rideable_type          object\n",
       "started_at             object\n",
       "ended_at               object\n",
       "start_station_name     object\n",
       "start_station_id       object\n",
       "end_station_name       object\n",
       "end_station_id         object\n",
       "start_lat             float64\n",
       "start_lng             float64\n",
       "end_lat               float64\n",
       "end_lng               float64\n",
       "member_casual          object\n",
       "dtype: object"
      ]
     },
     "execution_count": 8,
     "metadata": {},
     "output_type": "execute_result"
    }
   ],
   "source": [
    "df.dtypes"
   ]
  },
  {
   "cell_type": "code",
   "execution_count": 9,
   "id": "66a1c036-15b2-41ef-afed-088a89d4bb03",
   "metadata": {},
   "outputs": [
    {
     "data": {
      "text/html": [
       "<div>\n",
       "<style scoped>\n",
       "    .dataframe tbody tr th:only-of-type {\n",
       "        vertical-align: middle;\n",
       "    }\n",
       "\n",
       "    .dataframe tbody tr th {\n",
       "        vertical-align: top;\n",
       "    }\n",
       "\n",
       "    .dataframe thead th {\n",
       "        text-align: right;\n",
       "    }\n",
       "</style>\n",
       "<table border=\"1\" class=\"dataframe\">\n",
       "  <thead>\n",
       "    <tr style=\"text-align: right;\">\n",
       "      <th></th>\n",
       "      <th>ride_id</th>\n",
       "      <th>rideable_type</th>\n",
       "      <th>started_at</th>\n",
       "      <th>ended_at</th>\n",
       "      <th>start_station_name</th>\n",
       "      <th>start_station_id</th>\n",
       "      <th>end_station_name</th>\n",
       "      <th>end_station_id</th>\n",
       "      <th>start_lat</th>\n",
       "      <th>start_lng</th>\n",
       "      <th>end_lat</th>\n",
       "      <th>end_lng</th>\n",
       "      <th>member_casual</th>\n",
       "    </tr>\n",
       "  </thead>\n",
       "  <tbody>\n",
       "    <tr>\n",
       "      <th>35107025</th>\n",
       "      <td>69262CB4F1D8BDC8</td>\n",
       "      <td>classic_bike</td>\n",
       "      <td>2023-08-15 12:51:41.402</td>\n",
       "      <td>2023-08-15 13:05:12.615</td>\n",
       "      <td>Carroll St &amp; 5 Ave</td>\n",
       "      <td>4060.09</td>\n",
       "      <td>4 Ave &amp; 26 St</td>\n",
       "      <td>3596.04</td>\n",
       "      <td>40.675162</td>\n",
       "      <td>-73.981483</td>\n",
       "      <td>40.660079</td>\n",
       "      <td>-73.998633</td>\n",
       "      <td>member</td>\n",
       "    </tr>\n",
       "    <tr>\n",
       "      <th>35107026</th>\n",
       "      <td>4B3DFAD8C863B15A</td>\n",
       "      <td>classic_bike</td>\n",
       "      <td>2023-08-28 19:38:25.187</td>\n",
       "      <td>2023-08-28 19:44:06.228</td>\n",
       "      <td>10 St &amp; 4 Ave</td>\n",
       "      <td>3882.05</td>\n",
       "      <td>4 Ave &amp; 26 St</td>\n",
       "      <td>3596.04</td>\n",
       "      <td>40.669674</td>\n",
       "      <td>-73.988989</td>\n",
       "      <td>40.660079</td>\n",
       "      <td>-73.998633</td>\n",
       "      <td>member</td>\n",
       "    </tr>\n",
       "    <tr>\n",
       "      <th>35107027</th>\n",
       "      <td>BCD23573C49BBD1F</td>\n",
       "      <td>classic_bike</td>\n",
       "      <td>2023-08-24 17:53:08.168</td>\n",
       "      <td>2023-08-24 18:09:37.356</td>\n",
       "      <td>Carroll St &amp; 5 Ave</td>\n",
       "      <td>4060.09</td>\n",
       "      <td>Flatbush Ave &amp; Ocean Ave</td>\n",
       "      <td>3704.04</td>\n",
       "      <td>40.675162</td>\n",
       "      <td>-73.981483</td>\n",
       "      <td>40.663657</td>\n",
       "      <td>-73.963014</td>\n",
       "      <td>member</td>\n",
       "    </tr>\n",
       "    <tr>\n",
       "      <th>35107028</th>\n",
       "      <td>BFD52DFF60F1D251</td>\n",
       "      <td>classic_bike</td>\n",
       "      <td>2023-08-17 18:37:24.995</td>\n",
       "      <td>2023-08-17 18:53:34.535</td>\n",
       "      <td>E 75 St &amp; 3 Ave</td>\n",
       "      <td>6991.12</td>\n",
       "      <td>FDR Drive &amp; E 35 St</td>\n",
       "      <td>6230.04</td>\n",
       "      <td>40.771129</td>\n",
       "      <td>-73.957723</td>\n",
       "      <td>40.744219</td>\n",
       "      <td>-73.971212</td>\n",
       "      <td>member</td>\n",
       "    </tr>\n",
       "    <tr>\n",
       "      <th>35107029</th>\n",
       "      <td>464594FDA2BD4397</td>\n",
       "      <td>electric_bike</td>\n",
       "      <td>2023-08-20 12:40:54.958</td>\n",
       "      <td>2023-08-20 13:02:14.279</td>\n",
       "      <td>Carroll St &amp; 5 Ave</td>\n",
       "      <td>4060.09</td>\n",
       "      <td>Leonard St &amp; Boerum St</td>\n",
       "      <td>5036.06</td>\n",
       "      <td>40.675224</td>\n",
       "      <td>-73.981665</td>\n",
       "      <td>40.705833</td>\n",
       "      <td>-73.946446</td>\n",
       "      <td>member</td>\n",
       "    </tr>\n",
       "  </tbody>\n",
       "</table>\n",
       "</div>"
      ],
      "text/plain": [
       "                   ride_id  rideable_type               started_at  \\\n",
       "35107025  69262CB4F1D8BDC8   classic_bike  2023-08-15 12:51:41.402   \n",
       "35107026  4B3DFAD8C863B15A   classic_bike  2023-08-28 19:38:25.187   \n",
       "35107027  BCD23573C49BBD1F   classic_bike  2023-08-24 17:53:08.168   \n",
       "35107028  BFD52DFF60F1D251   classic_bike  2023-08-17 18:37:24.995   \n",
       "35107029  464594FDA2BD4397  electric_bike  2023-08-20 12:40:54.958   \n",
       "\n",
       "                         ended_at  start_station_name start_station_id  \\\n",
       "35107025  2023-08-15 13:05:12.615  Carroll St & 5 Ave          4060.09   \n",
       "35107026  2023-08-28 19:44:06.228       10 St & 4 Ave          3882.05   \n",
       "35107027  2023-08-24 18:09:37.356  Carroll St & 5 Ave          4060.09   \n",
       "35107028  2023-08-17 18:53:34.535     E 75 St & 3 Ave          6991.12   \n",
       "35107029  2023-08-20 13:02:14.279  Carroll St & 5 Ave          4060.09   \n",
       "\n",
       "                  end_station_name end_station_id  start_lat  start_lng  \\\n",
       "35107025             4 Ave & 26 St        3596.04  40.675162 -73.981483   \n",
       "35107026             4 Ave & 26 St        3596.04  40.669674 -73.988989   \n",
       "35107027  Flatbush Ave & Ocean Ave        3704.04  40.675162 -73.981483   \n",
       "35107028       FDR Drive & E 35 St        6230.04  40.771129 -73.957723   \n",
       "35107029    Leonard St & Boerum St        5036.06  40.675224 -73.981665   \n",
       "\n",
       "            end_lat    end_lng member_casual  \n",
       "35107025  40.660079 -73.998633        member  \n",
       "35107026  40.660079 -73.998633        member  \n",
       "35107027  40.663657 -73.963014        member  \n",
       "35107028  40.744219 -73.971212        member  \n",
       "35107029  40.705833 -73.946446        member  "
      ]
     },
     "execution_count": 9,
     "metadata": {},
     "output_type": "execute_result"
    }
   ],
   "source": [
    "df.tail()"
   ]
  },
  {
   "cell_type": "markdown",
   "id": "233c4584-e983-4f91-b607-bab1f2278a9a",
   "metadata": {},
   "source": [
    "**Used \"low_memory=False\" for more stable solution for the messy real-world datasets!**"
   ]
  },
  {
   "cell_type": "code",
   "execution_count": 10,
   "id": "ae006a78-7dd4-490b-8de3-8ec6543d8576",
   "metadata": {},
   "outputs": [
    {
     "name": "stdout",
     "output_type": "stream",
     "text": [
      "Earliest trip: 2022-02-24 05:17:48.641000\n",
      "Latest trip: 2023-12-31 23:59:57.057000\n"
     ]
    }
   ],
   "source": [
    "# Convert started_at to datetime\n",
    "df['started_at'] = pd.to_datetime(df['started_at'])\n",
    "df['ended_at'] = pd.to_datetime(df['ended_at'])\n",
    "\n",
    "# Find the earliest and latest trip\n",
    "print(\"Earliest trip:\", df['started_at'].min())\n",
    "print(\"Latest trip:\", df['ended_at'].max())"
   ]
  },
  {
   "cell_type": "markdown",
   "id": "765397e4-1ba9-4c56-8e67-64345c4cb2e4",
   "metadata": {},
   "source": [
    "**It includes data from early 2022**"
   ]
  },
  {
   "cell_type": "code",
   "execution_count": 11,
   "id": "59c7f6de-0856-4c08-b668-7cc2ad8d5c53",
   "metadata": {},
   "outputs": [
    {
     "name": "stdout",
     "output_type": "stream",
     "text": [
      "2023-01-01 00:00:13.021000\n",
      "2023-12-31 23:59:57.057000\n"
     ]
    }
   ],
   "source": [
    "# Filter trips that started in 2023\n",
    "df_2023 = df[df['started_at'].dt.year == 2023]\n",
    "\n",
    "# Check again\n",
    "print(df_2023['started_at'].min())\n",
    "print(df_2023['ended_at'].max())\n",
    "\n",
    "# Optional: drop the extra 'year_month' column if created earlier\n",
    "#df_2023 = df_2023.drop(columns=['year_month'], errors='ignore')"
   ]
  },
  {
   "cell_type": "code",
   "execution_count": 12,
   "id": "e9889a0f-e42d-4a7a-add3-f5c22a130f4a",
   "metadata": {},
   "outputs": [
    {
     "data": {
      "text/plain": [
       "(35106710, 13)"
      ]
     },
     "execution_count": 12,
     "metadata": {},
     "output_type": "execute_result"
    }
   ],
   "source": [
    "df_2023.shape"
   ]
  },
  {
   "cell_type": "code",
   "execution_count": 14,
   "id": "0e541eb1-1e6a-4b79-980e-9fb185ef56d5",
   "metadata": {},
   "outputs": [
    {
     "name": "stdout",
     "output_type": "stream",
     "text": [
      "year_month\n",
      "2023-01    1795329\n",
      "2023-02    1696101\n",
      "2023-03    2119314\n",
      "2023-04    2749360\n",
      "2023-05    3453576\n",
      "2023-06    3451869\n",
      "2023-07    3659372\n",
      "2023-08    3964206\n",
      "2023-09    3471658\n",
      "2023-10    3724615\n",
      "2023-11    2816850\n",
      "2023-12    2204460\n",
      "Freq: M, dtype: int64\n"
     ]
    }
   ],
   "source": [
    "# Make a copy of filtered 2023 data\n",
    "df_2023 = df[df['started_at'].dt.year == 2023].copy()\n",
    "\n",
    "# Create a year-month column\n",
    "df_2023['year_month'] = df_2023['started_at'].dt.to_period('M')\n",
    "\n",
    "# Count trips per month\n",
    "monthly_trips = df_2023.groupby('year_month').size()\n",
    "\n",
    "# View\n",
    "print(monthly_trips)"
   ]
  },
  {
   "cell_type": "code",
   "execution_count": 15,
   "id": "c0e4b9ab-784a-4598-84ca-660a187642d1",
   "metadata": {},
   "outputs": [
    {
     "data": {
      "image/png": "[encoded data removed]",
      "text/plain": [
       "<Figure size 1200x600 with 1 Axes>"
      ]
     },
     "metadata": {},
     "output_type": "display_data"
    }
   ],
   "source": [
    "monthly_trips.plot(kind='bar', figsize=(12, 6))\n",
    "plt.title('Trips per Month in 2023')\n",
    "plt.xlabel('Month')\n",
    "plt.ylabel('Number of Trips')\n",
    "plt.xticks(rotation=45)\n",
    "plt.show()"
   ]
  },
  {
   "cell_type": "code",
   "execution_count": 16,
   "id": "8d359343-8d71-4392-b848-f4b02f125b4f",
   "metadata": {},
   "outputs": [
    {
     "data": {
      "text/plain": [
       "ride_id                       object\n",
       "rideable_type                 object\n",
       "started_at            datetime64[ns]\n",
       "ended_at              datetime64[ns]\n",
       "start_station_name            object\n",
       "start_station_id              object\n",
       "end_station_name              object\n",
       "end_station_id                object\n",
       "start_lat                    float64\n",
       "start_lng                    float64\n",
       "end_lat                      float64\n",
       "end_lng                      float64\n",
       "member_casual                 object\n",
       "year_month                 period[M]\n",
       "dtype: object"
      ]
     },
     "execution_count": 16,
     "metadata": {},
     "output_type": "execute_result"
    }
   ],
   "source": [
    "df_2023.dtypes"
   ]
  },
  {
   "cell_type": "code",
   "execution_count": 17,
   "id": "340b03ed-7576-4e60-88fa-fb84760058d5",
   "metadata": {},
   "outputs": [],
   "source": [
    "df_2023.to_csv('citbike_2023.csv')"
   ]
  },
  {
   "cell_type": "code",
   "execution_count": 18,
   "id": "babc563d-3fbc-4ae1-8ce8-9667d9808c0e",
   "metadata": {},
   "outputs": [],
   "source": [
    "df_2023_updated = df_2023.drop(columns=['start_lat', 'start_lng', 'end_lat', 'end_lng'])"
   ]
  },
  {
   "cell_type": "code",
   "execution_count": 19,
   "id": "e26fdde2-f0e1-41e6-bc49-75b21d0409eb",
   "metadata": {},
   "outputs": [
    {
     "data": {
      "text/plain": [
       "ride_id                       object\n",
       "rideable_type                 object\n",
       "started_at            datetime64[ns]\n",
       "ended_at              datetime64[ns]\n",
       "start_station_name            object\n",
       "start_station_id              object\n",
       "end_station_name              object\n",
       "end_station_id                object\n",
       "member_casual                 object\n",
       "year_month                 period[M]\n",
       "dtype: object"
      ]
     },
     "execution_count": 19,
     "metadata": {},
     "output_type": "execute_result"
    }
   ],
   "source": [
    "df_2023_updated.dtypes"
   ]
  },
  {
   "cell_type": "code",
   "execution_count": null,
   "id": "fd436a05-88c4-4e11-a2c9-893deaa6ac00",
   "metadata": {},
   "outputs": [],
   "source": [
    "df_2023_updated.to_csv('citbike_2023_cleaned.csv')"
   ]
  },
  {
   "cell_type": "markdown",
   "id": "6c4aeb07-3ca1-40c0-8b64-96fa0cdc4c40",
   "metadata": {},
   "source": [
    "## Getting weather data using NOAA's API"
   ]
  },
  {
   "cell_type": "code",
   "execution_count": 21,
   "id": "74a94cca-a456-48d8-809e-916fae4dfaa9",
   "metadata": {},
   "outputs": [],
   "source": [
    "# Step 1: Find the Station’s ID \n",
    "# GHCND:USW00014732\n",
    "\n",
    "# Step 2: Define NOAA Token\n",
    "Token = 'hyZLaVsWXkBoTHhTXSkGoXXwQHTtemLV'"
   ]
  },
  {
   "cell_type": "code",
   "execution_count": 22,
   "id": "12d591b1-2755-4ca9-a343-2910dc32229b",
   "metadata": {},
   "outputs": [],
   "source": [
    "# Step 3: Compile URL\n",
    "r = requests.get('https://www.ncdc.noaa.gov/cdo-web/api/v2/data?datasetid=GHCND&datatypeid=TAVG&limit=1000&stationid=GHCND:USW00014732&startdate=2023-01-01&enddate=2023-12-31', headers={'token':Token})"
   ]
  },
  {
   "cell_type": "code",
   "execution_count": 23,
   "id": "6049800a-afcf-4a05-8cf4-43d7f268a8f4",
   "metadata": {},
   "outputs": [
    {
     "data": {
      "text/html": [
       "<div>\n",
       "<style scoped>\n",
       "    .dataframe tbody tr th:only-of-type {\n",
       "        vertical-align: middle;\n",
       "    }\n",
       "\n",
       "    .dataframe tbody tr th {\n",
       "        vertical-align: top;\n",
       "    }\n",
       "\n",
       "    .dataframe thead th {\n",
       "        text-align: right;\n",
       "    }\n",
       "</style>\n",
       "<table border=\"1\" class=\"dataframe\">\n",
       "  <thead>\n",
       "    <tr style=\"text-align: right;\">\n",
       "      <th></th>\n",
       "      <th>date</th>\n",
       "      <th>avgTemp</th>\n",
       "    </tr>\n",
       "  </thead>\n",
       "  <tbody>\n",
       "    <tr>\n",
       "      <th>360</th>\n",
       "      <td>2023-12-27</td>\n",
       "      <td>6.7</td>\n",
       "    </tr>\n",
       "    <tr>\n",
       "      <th>361</th>\n",
       "      <td>2023-12-28</td>\n",
       "      <td>9.5</td>\n",
       "    </tr>\n",
       "    <tr>\n",
       "      <th>362</th>\n",
       "      <td>2023-12-29</td>\n",
       "      <td>9.8</td>\n",
       "    </tr>\n",
       "    <tr>\n",
       "      <th>363</th>\n",
       "      <td>2023-12-30</td>\n",
       "      <td>7.2</td>\n",
       "    </tr>\n",
       "    <tr>\n",
       "      <th>364</th>\n",
       "      <td>2023-12-31</td>\n",
       "      <td>5.4</td>\n",
       "    </tr>\n",
       "  </tbody>\n",
       "</table>\n",
       "</div>"
      ],
      "text/plain": [
       "          date  avgTemp\n",
       "360 2023-12-27      6.7\n",
       "361 2023-12-28      9.5\n",
       "362 2023-12-29      9.8\n",
       "363 2023-12-30      7.2\n",
       "364 2023-12-31      5.4"
      ]
     },
     "execution_count": 23,
     "metadata": {},
     "output_type": "execute_result"
    }
   ],
   "source": [
    "# Store the Data in JSON Format\n",
    "d = json.loads(r.text)\n",
    "\n",
    "# Secure all items in the response that correspond to TAVG\n",
    "avg_temps = [item for item in d['results'] if item['datatype']=='TAVG']\n",
    "\n",
    "# Get only the date field from all average temperature readings\n",
    "dates_temp = [item['date'] for item in avg_temps]\n",
    "\n",
    "# Get the temperature from all average temperature readings\n",
    "temps = [item['value'] for item in avg_temps]\n",
    "temps\n",
    "\n",
    "# Put the results in a dataframe\n",
    "df_temp = pd.DataFrame()\n",
    "\n",
    "# Get only date and cast it to date time; convert temperature from tenths of Celsius to normal Celsius\n",
    "df_temp['date'] = [datetime.strptime(d, \"%Y-%m-%dT%H:%M:%S\") for d in dates_temp]\n",
    "df_temp['avgTemp'] = [float(v)/10.0 for v in temps]\n",
    "\n",
    "df_temp.tail()"
   ]
  },
  {
   "cell_type": "code",
   "execution_count": 24,
   "id": "71ad1a3d-05a2-4157-adbf-ad32c22d3821",
   "metadata": {},
   "outputs": [
    {
     "data": {
      "text/plain": [
       "date       datetime64[ns]\n",
       "avgTemp           float64\n",
       "dtype: object"
      ]
     },
     "execution_count": 24,
     "metadata": {},
     "output_type": "execute_result"
    }
   ],
   "source": [
    "df_temp.dtypes"
   ]
  },
  {
   "cell_type": "markdown",
   "id": "82e86a5a-bf4e-4d35-a4ca-db5b80c62c6c",
   "metadata": {},
   "source": [
    "### Merging the Data"
   ]
  },
  {
   "cell_type": "code",
   "execution_count": 27,
   "id": "73cd35d0-92b5-43d9-b1bf-09c6f8062442",
   "metadata": {},
   "outputs": [],
   "source": [
    "# Merge the Data\n",
    "df_2023_updated['started_at'] = pd.to_datetime(df_2023['started_at'])\n",
    "df_temp['date'] = pd.to_datetime(df_temp['date'])"
   ]
  },
  {
   "cell_type": "code",
   "execution_count": 28,
   "id": "a8a6ec08-1a94-4cb0-9871-624693c29e28",
   "metadata": {},
   "outputs": [],
   "source": [
    "# Extract only date part\n",
    "df_2023_updated['date'] = df_2023_updated['started_at'].dt.date\n",
    "df_temp['date'] = df_temp['date'].dt.date"
   ]
  },
  {
   "cell_type": "code",
   "execution_count": 29,
   "id": "c2c1d8e5-0e70-49f5-9bab-795bb58056ab",
   "metadata": {},
   "outputs": [],
   "source": [
    "# Merge\n",
    "bike_weather_2023 = pd.merge(df_2023_updated, df_temp, on='date', how='left', indicator=True)"
   ]
  },
  {
   "cell_type": "code",
   "execution_count": 30,
   "id": "b9fea3a1-2647-470f-9c9b-7478a6eaa9b8",
   "metadata": {},
   "outputs": [
    {
     "data": {
      "text/html": [
       "<div>\n",
       "<style scoped>\n",
       "    .dataframe tbody tr th:only-of-type {\n",
       "        vertical-align: middle;\n",
       "    }\n",
       "\n",
       "    .dataframe tbody tr th {\n",
       "        vertical-align: top;\n",
       "    }\n",
       "\n",
       "    .dataframe thead th {\n",
       "        text-align: right;\n",
       "    }\n",
       "</style>\n",
       "<table border=\"1\" class=\"dataframe\">\n",
       "  <thead>\n",
       "    <tr style=\"text-align: right;\">\n",
       "      <th></th>\n",
       "      <th>ride_id</th>\n",
       "      <th>rideable_type</th>\n",
       "      <th>started_at</th>\n",
       "      <th>ended_at</th>\n",
       "      <th>start_station_name</th>\n",
       "      <th>start_station_id</th>\n",
       "      <th>end_station_name</th>\n",
       "      <th>end_station_id</th>\n",
       "      <th>member_casual</th>\n",
       "      <th>year_month</th>\n",
       "      <th>date</th>\n",
       "      <th>avgTemp</th>\n",
       "      <th>_merge</th>\n",
       "    </tr>\n",
       "  </thead>\n",
       "  <tbody>\n",
       "    <tr>\n",
       "      <th>0</th>\n",
       "      <td>5772778972800B87</td>\n",
       "      <td>electric_bike</td>\n",
       "      <td>2023-12-20 06:18:04.187</td>\n",
       "      <td>2023-12-20 06:24:50.461</td>\n",
       "      <td>W 41 St &amp; 8 Ave</td>\n",
       "      <td>6602.03</td>\n",
       "      <td>Madison Ave &amp; E 26 St</td>\n",
       "      <td>6131.12</td>\n",
       "      <td>member</td>\n",
       "      <td>2023-12</td>\n",
       "      <td>2023-12-20</td>\n",
       "      <td>2.3</td>\n",
       "      <td>both</td>\n",
       "    </tr>\n",
       "    <tr>\n",
       "      <th>1</th>\n",
       "      <td>32DD834BEA2ABA5B</td>\n",
       "      <td>classic_bike</td>\n",
       "      <td>2023-12-21 16:15:52.308</td>\n",
       "      <td>2023-12-21 16:21:22.124</td>\n",
       "      <td>46 Ave &amp; 5 St</td>\n",
       "      <td>6286.02</td>\n",
       "      <td>44 Dr &amp; Jackson Ave</td>\n",
       "      <td>6352.01</td>\n",
       "      <td>member</td>\n",
       "      <td>2023-12</td>\n",
       "      <td>2023-12-21</td>\n",
       "      <td>3.6</td>\n",
       "      <td>both</td>\n",
       "    </tr>\n",
       "    <tr>\n",
       "      <th>2</th>\n",
       "      <td>3B6B1AA2B94A01D1</td>\n",
       "      <td>classic_bike</td>\n",
       "      <td>2023-12-07 11:49:31.277</td>\n",
       "      <td>2023-12-07 11:56:07.264</td>\n",
       "      <td>46 Ave &amp; 5 St</td>\n",
       "      <td>6286.02</td>\n",
       "      <td>44 Dr &amp; Jackson Ave</td>\n",
       "      <td>6352.01</td>\n",
       "      <td>member</td>\n",
       "      <td>2023-12</td>\n",
       "      <td>2023-12-07</td>\n",
       "      <td>2.1</td>\n",
       "      <td>both</td>\n",
       "    </tr>\n",
       "    <tr>\n",
       "      <th>3</th>\n",
       "      <td>A8F4C66161031B63</td>\n",
       "      <td>electric_bike</td>\n",
       "      <td>2023-12-26 06:17:43.385</td>\n",
       "      <td>2023-12-26 06:24:11.386</td>\n",
       "      <td>W 41 St &amp; 8 Ave</td>\n",
       "      <td>6602.03</td>\n",
       "      <td>Madison Ave &amp; E 26 St</td>\n",
       "      <td>6131.12</td>\n",
       "      <td>member</td>\n",
       "      <td>2023-12</td>\n",
       "      <td>2023-12-26</td>\n",
       "      <td>7.1</td>\n",
       "      <td>both</td>\n",
       "    </tr>\n",
       "    <tr>\n",
       "      <th>4</th>\n",
       "      <td>A6176AFE373FB4C8</td>\n",
       "      <td>electric_bike</td>\n",
       "      <td>2023-12-21 06:58:24.078</td>\n",
       "      <td>2023-12-21 07:04:17.045</td>\n",
       "      <td>E 53 St &amp; 3 Ave</td>\n",
       "      <td>6617.02</td>\n",
       "      <td>1 Ave &amp; E 68 St</td>\n",
       "      <td>6822.09</td>\n",
       "      <td>member</td>\n",
       "      <td>2023-12</td>\n",
       "      <td>2023-12-21</td>\n",
       "      <td>3.6</td>\n",
       "      <td>both</td>\n",
       "    </tr>\n",
       "  </tbody>\n",
       "</table>\n",
       "</div>"
      ],
      "text/plain": [
       "            ride_id  rideable_type              started_at  \\\n",
       "0  5772778972800B87  electric_bike 2023-12-20 06:18:04.187   \n",
       "1  32DD834BEA2ABA5B   classic_bike 2023-12-21 16:15:52.308   \n",
       "2  3B6B1AA2B94A01D1   classic_bike 2023-12-07 11:49:31.277   \n",
       "3  A8F4C66161031B63  electric_bike 2023-12-26 06:17:43.385   \n",
       "4  A6176AFE373FB4C8  electric_bike 2023-12-21 06:58:24.078   \n",
       "\n",
       "                 ended_at start_station_name start_station_id  \\\n",
       "0 2023-12-20 06:24:50.461    W 41 St & 8 Ave          6602.03   \n",
       "1 2023-12-21 16:21:22.124      46 Ave & 5 St          6286.02   \n",
       "2 2023-12-07 11:56:07.264      46 Ave & 5 St          6286.02   \n",
       "3 2023-12-26 06:24:11.386    W 41 St & 8 Ave          6602.03   \n",
       "4 2023-12-21 07:04:17.045    E 53 St & 3 Ave          6617.02   \n",
       "\n",
       "        end_station_name end_station_id member_casual year_month        date  \\\n",
       "0  Madison Ave & E 26 St        6131.12        member    2023-12  2023-12-20   \n",
       "1    44 Dr & Jackson Ave        6352.01        member    2023-12  2023-12-21   \n",
       "2    44 Dr & Jackson Ave        6352.01        member    2023-12  2023-12-07   \n",
       "3  Madison Ave & E 26 St        6131.12        member    2023-12  2023-12-26   \n",
       "4        1 Ave & E 68 St        6822.09        member    2023-12  2023-12-21   \n",
       "\n",
       "   avgTemp _merge  \n",
       "0      2.3   both  \n",
       "1      3.6   both  \n",
       "2      2.1   both  \n",
       "3      7.1   both  \n",
       "4      3.6   both  "
      ]
     },
     "execution_count": 30,
     "metadata": {},
     "output_type": "execute_result"
    }
   ],
   "source": [
    "# Preview\n",
    "bike_weather_2023.head()"
   ]
  },
  {
   "cell_type": "code",
   "execution_count": 31,
   "id": "8e28c2da-4fe4-4670-82f3-0e91b75eb1fe",
   "metadata": {},
   "outputs": [
    {
     "data": {
      "text/plain": [
       "(35106710, 13)"
      ]
     },
     "execution_count": 31,
     "metadata": {},
     "output_type": "execute_result"
    }
   ],
   "source": [
    "bike_weather_2023.shape"
   ]
  },
  {
   "cell_type": "code",
   "execution_count": 32,
   "id": "eb2c6c85-31d9-499a-a25b-5e15f2713297",
   "metadata": {},
   "outputs": [
    {
     "data": {
      "text/plain": [
       "_merge\n",
       "both          35106710\n",
       "left_only            0\n",
       "right_only           0\n",
       "Name: count, dtype: int64"
      ]
     },
     "execution_count": 32,
     "metadata": {},
     "output_type": "execute_result"
    }
   ],
   "source": [
    "bike_weather_2023['_merge'].value_counts(dropna = False)"
   ]
  },
  {
   "cell_type": "code",
   "execution_count": 33,
   "id": "cf6eec84-bfd3-420f-b301-24f8ca2b8650",
   "metadata": {},
   "outputs": [
    {
     "data": {
      "text/html": [
       "<div>\n",
       "<style scoped>\n",
       "    .dataframe tbody tr th:only-of-type {\n",
       "        vertical-align: middle;\n",
       "    }\n",
       "\n",
       "    .dataframe tbody tr th {\n",
       "        vertical-align: top;\n",
       "    }\n",
       "\n",
       "    .dataframe thead th {\n",
       "        text-align: right;\n",
       "    }\n",
       "</style>\n",
       "<table border=\"1\" class=\"dataframe\">\n",
       "  <thead>\n",
       "    <tr style=\"text-align: right;\">\n",
       "      <th></th>\n",
       "      <th>ride_id</th>\n",
       "      <th>rideable_type</th>\n",
       "      <th>started_at</th>\n",
       "      <th>ended_at</th>\n",
       "      <th>start_station_name</th>\n",
       "      <th>start_station_id</th>\n",
       "      <th>end_station_name</th>\n",
       "      <th>end_station_id</th>\n",
       "      <th>member_casual</th>\n",
       "      <th>year_month</th>\n",
       "      <th>date</th>\n",
       "      <th>avgTemp</th>\n",
       "      <th>_merge</th>\n",
       "    </tr>\n",
       "  </thead>\n",
       "  <tbody>\n",
       "    <tr>\n",
       "      <th>35106705</th>\n",
       "      <td>69262CB4F1D8BDC8</td>\n",
       "      <td>classic_bike</td>\n",
       "      <td>2023-08-15 12:51:41.402</td>\n",
       "      <td>2023-08-15 13:05:12.615</td>\n",
       "      <td>Carroll St &amp; 5 Ave</td>\n",
       "      <td>4060.09</td>\n",
       "      <td>4 Ave &amp; 26 St</td>\n",
       "      <td>3596.04</td>\n",
       "      <td>member</td>\n",
       "      <td>2023-08</td>\n",
       "      <td>2023-08-15</td>\n",
       "      <td>23.9</td>\n",
       "      <td>both</td>\n",
       "    </tr>\n",
       "    <tr>\n",
       "      <th>35106706</th>\n",
       "      <td>4B3DFAD8C863B15A</td>\n",
       "      <td>classic_bike</td>\n",
       "      <td>2023-08-28 19:38:25.187</td>\n",
       "      <td>2023-08-28 19:44:06.228</td>\n",
       "      <td>10 St &amp; 4 Ave</td>\n",
       "      <td>3882.05</td>\n",
       "      <td>4 Ave &amp; 26 St</td>\n",
       "      <td>3596.04</td>\n",
       "      <td>member</td>\n",
       "      <td>2023-08</td>\n",
       "      <td>2023-08-28</td>\n",
       "      <td>23.3</td>\n",
       "      <td>both</td>\n",
       "    </tr>\n",
       "    <tr>\n",
       "      <th>35106707</th>\n",
       "      <td>BCD23573C49BBD1F</td>\n",
       "      <td>classic_bike</td>\n",
       "      <td>2023-08-24 17:53:08.168</td>\n",
       "      <td>2023-08-24 18:09:37.356</td>\n",
       "      <td>Carroll St &amp; 5 Ave</td>\n",
       "      <td>4060.09</td>\n",
       "      <td>Flatbush Ave &amp; Ocean Ave</td>\n",
       "      <td>3704.04</td>\n",
       "      <td>member</td>\n",
       "      <td>2023-08</td>\n",
       "      <td>2023-08-24</td>\n",
       "      <td>22.3</td>\n",
       "      <td>both</td>\n",
       "    </tr>\n",
       "    <tr>\n",
       "      <th>35106708</th>\n",
       "      <td>BFD52DFF60F1D251</td>\n",
       "      <td>classic_bike</td>\n",
       "      <td>2023-08-17 18:37:24.995</td>\n",
       "      <td>2023-08-17 18:53:34.535</td>\n",
       "      <td>E 75 St &amp; 3 Ave</td>\n",
       "      <td>6991.12</td>\n",
       "      <td>FDR Drive &amp; E 35 St</td>\n",
       "      <td>6230.04</td>\n",
       "      <td>member</td>\n",
       "      <td>2023-08</td>\n",
       "      <td>2023-08-17</td>\n",
       "      <td>23.9</td>\n",
       "      <td>both</td>\n",
       "    </tr>\n",
       "    <tr>\n",
       "      <th>35106709</th>\n",
       "      <td>464594FDA2BD4397</td>\n",
       "      <td>electric_bike</td>\n",
       "      <td>2023-08-20 12:40:54.958</td>\n",
       "      <td>2023-08-20 13:02:14.279</td>\n",
       "      <td>Carroll St &amp; 5 Ave</td>\n",
       "      <td>4060.09</td>\n",
       "      <td>Leonard St &amp; Boerum St</td>\n",
       "      <td>5036.06</td>\n",
       "      <td>member</td>\n",
       "      <td>2023-08</td>\n",
       "      <td>2023-08-20</td>\n",
       "      <td>25.3</td>\n",
       "      <td>both</td>\n",
       "    </tr>\n",
       "  </tbody>\n",
       "</table>\n",
       "</div>"
      ],
      "text/plain": [
       "                   ride_id  rideable_type              started_at  \\\n",
       "35106705  69262CB4F1D8BDC8   classic_bike 2023-08-15 12:51:41.402   \n",
       "35106706  4B3DFAD8C863B15A   classic_bike 2023-08-28 19:38:25.187   \n",
       "35106707  BCD23573C49BBD1F   classic_bike 2023-08-24 17:53:08.168   \n",
       "35106708  BFD52DFF60F1D251   classic_bike 2023-08-17 18:37:24.995   \n",
       "35106709  464594FDA2BD4397  electric_bike 2023-08-20 12:40:54.958   \n",
       "\n",
       "                        ended_at  start_station_name start_station_id  \\\n",
       "35106705 2023-08-15 13:05:12.615  Carroll St & 5 Ave          4060.09   \n",
       "35106706 2023-08-28 19:44:06.228       10 St & 4 Ave          3882.05   \n",
       "35106707 2023-08-24 18:09:37.356  Carroll St & 5 Ave          4060.09   \n",
       "35106708 2023-08-17 18:53:34.535     E 75 St & 3 Ave          6991.12   \n",
       "35106709 2023-08-20 13:02:14.279  Carroll St & 5 Ave          4060.09   \n",
       "\n",
       "                  end_station_name end_station_id member_casual year_month  \\\n",
       "35106705             4 Ave & 26 St        3596.04        member    2023-08   \n",
       "35106706             4 Ave & 26 St        3596.04        member    2023-08   \n",
       "35106707  Flatbush Ave & Ocean Ave        3704.04        member    2023-08   \n",
       "35106708       FDR Drive & E 35 St        6230.04        member    2023-08   \n",
       "35106709    Leonard St & Boerum St        5036.06        member    2023-08   \n",
       "\n",
       "                date  avgTemp _merge  \n",
       "35106705  2023-08-15     23.9   both  \n",
       "35106706  2023-08-28     23.3   both  \n",
       "35106707  2023-08-24     22.3   both  \n",
       "35106708  2023-08-17     23.9   both  \n",
       "35106709  2023-08-20     25.3   both  "
      ]
     },
     "execution_count": 33,
     "metadata": {},
     "output_type": "execute_result"
    }
   ],
   "source": [
    "bike_weather_2023.tail()"
   ]
  },
  {
   "cell_type": "code",
   "execution_count": 34,
   "id": "8ec749ce-252b-468f-beba-333603455f1d",
   "metadata": {},
   "outputs": [
    {
     "name": "stdout",
     "output_type": "stream",
     "text": [
      "2023-01-01 00:00:13.021000\n",
      "2023-12-31 23:59:57.057000\n"
     ]
    }
   ],
   "source": [
    "# Check again\n",
    "print(bike_weather_2023['started_at'].min())\n",
    "print(bike_weather_2023['ended_at'].max())"
   ]
  },
  {
   "cell_type": "code",
   "execution_count": 35,
   "id": "b08148cf-4104-4ca7-ab8f-d2f0c36e983b",
   "metadata": {},
   "outputs": [
    {
     "data": {
      "text/plain": [
       "ride_id                       object\n",
       "rideable_type                 object\n",
       "started_at            datetime64[ns]\n",
       "ended_at              datetime64[ns]\n",
       "start_station_name            object\n",
       "start_station_id              object\n",
       "end_station_name              object\n",
       "end_station_id                object\n",
       "member_casual                 object\n",
       "year_month                 period[M]\n",
       "date                          object\n",
       "avgTemp                      float64\n",
       "_merge                      category\n",
       "dtype: object"
      ]
     },
     "execution_count": 35,
     "metadata": {},
     "output_type": "execute_result"
    }
   ],
   "source": [
    "bike_weather_2023.dtypes"
   ]
  },
  {
   "cell_type": "code",
   "execution_count": null,
   "id": "66b8a239-e87e-4360-ab77-482a8f5ab8ed",
   "metadata": {},
   "outputs": [],
   "source": [
    "bike_weather_2023.to_csv('nyc-citibike_data.csv')"
   ]
  },
  {
   "cell_type": "code",
   "execution_count": null,
   "id": "d27dcece-faca-43a2-b197-d6f503ea6e49",
   "metadata": {},
   "outputs": [],
   "source": []
  }
 ],
 "metadata": {
  "kernelspec": {
   "display_name": "Python (venv_citibike_py310)",
   "language": "python",
   "name": "venv_citibike_py310"
  },
  "language_info": {
   "codemirror_mode": {
    "name": "ipython",
    "version": 3
   },
   "file_extension": ".py",
   "mimetype": "text/x-python",
   "name": "python",
   "nbconvert_exporter": "python",
   "pygments_lexer": "ipython3",
   "version": "3.10.16"
  }
 },
 "nbformat": 4,
 "nbformat_minor": 5
}
