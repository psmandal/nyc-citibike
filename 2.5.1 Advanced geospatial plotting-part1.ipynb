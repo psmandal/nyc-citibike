{
 "cells": [
  {
   "cell_type": "markdown",
   "id": "385b3055-2179-4bcc-ad21-914f9c132928",
   "metadata": {},
   "source": [
    "# Advanced geospatial plotting"
   ]
  },
  {
   "cell_type": "code",
   "execution_count": 1,
   "id": "7b9d53db-334b-4c30-a706-86b434eb1f6e",
   "metadata": {},
   "outputs": [],
   "source": [
    "# Import Libraries\n",
    "import pandas as pd\n",
    "import os\n",
    "from keplergl import KeplerGl\n",
    "from pyproj import CRS\n",
    "import numpy as np\n",
    "from matplotlib import pyplot as plt"
   ]
  },
  {
   "cell_type": "code",
   "execution_count": 2,
   "id": "030b22f7-220d-4204-87c4-105d1f712e33",
   "metadata": {},
   "outputs": [
    {
     "name": "stdout",
     "output_type": "stream",
     "text": [
      "Index(['ride_id', 'rideable_type', 'started_at', 'ended_at',\n",
      "       'start_station_name', 'start_station_id', 'end_station_name',\n",
      "       'end_station_id', 'member_casual', 'year_month', 'date', 'avgTemp',\n",
      "       '_merge'],\n",
      "      dtype='object')\n"
     ]
    }
   ],
   "source": [
    "# Load NYC Citibike dataset\n",
    "df = pd.read_csv('nyc-citibike_data.csv', index_col=0, low_memory=False)\n",
    "\n",
    "print(df.columns)"
   ]
  },
  {
   "cell_type": "code",
   "execution_count": 3,
   "id": "eb709be1-7bf6-4c1e-a804-c21e91cb52a9",
   "metadata": {},
   "outputs": [
    {
     "data": {
      "text/html": [
       "<div>\n",
       "<style scoped>\n",
       "    .dataframe tbody tr th:only-of-type {\n",
       "        vertical-align: middle;\n",
       "    }\n",
       "\n",
       "    .dataframe tbody tr th {\n",
       "        vertical-align: top;\n",
       "    }\n",
       "\n",
       "    .dataframe thead th {\n",
       "        text-align: right;\n",
       "    }\n",
       "</style>\n",
       "<table border=\"1\" class=\"dataframe\">\n",
       "  <thead>\n",
       "    <tr style=\"text-align: right;\">\n",
       "      <th></th>\n",
       "      <th>ride_id</th>\n",
       "      <th>rideable_type</th>\n",
       "      <th>started_at</th>\n",
       "      <th>ended_at</th>\n",
       "      <th>start_station_name</th>\n",
       "      <th>start_station_id</th>\n",
       "      <th>end_station_name</th>\n",
       "      <th>end_station_id</th>\n",
       "      <th>member_casual</th>\n",
       "      <th>year_month</th>\n",
       "      <th>date</th>\n",
       "      <th>avgTemp</th>\n",
       "      <th>_merge</th>\n",
       "    </tr>\n",
       "  </thead>\n",
       "  <tbody>\n",
       "    <tr>\n",
       "      <th>0</th>\n",
       "      <td>5772778972800B87</td>\n",
       "      <td>electric_bike</td>\n",
       "      <td>2023-12-20 06:18:04.187</td>\n",
       "      <td>2023-12-20 06:24:50.461</td>\n",
       "      <td>W 41 St &amp; 8 Ave</td>\n",
       "      <td>6602.03</td>\n",
       "      <td>Madison Ave &amp; E 26 St</td>\n",
       "      <td>6131.12</td>\n",
       "      <td>member</td>\n",
       "      <td>2023-12</td>\n",
       "      <td>2023-12-20</td>\n",
       "      <td>2.3</td>\n",
       "      <td>both</td>\n",
       "    </tr>\n",
       "    <tr>\n",
       "      <th>1</th>\n",
       "      <td>32DD834BEA2ABA5B</td>\n",
       "      <td>classic_bike</td>\n",
       "      <td>2023-12-21 16:15:52.308</td>\n",
       "      <td>2023-12-21 16:21:22.124</td>\n",
       "      <td>46 Ave &amp; 5 St</td>\n",
       "      <td>6286.02</td>\n",
       "      <td>44 Dr &amp; Jackson Ave</td>\n",
       "      <td>6352.01</td>\n",
       "      <td>member</td>\n",
       "      <td>2023-12</td>\n",
       "      <td>2023-12-21</td>\n",
       "      <td>3.6</td>\n",
       "      <td>both</td>\n",
       "    </tr>\n",
       "    <tr>\n",
       "      <th>2</th>\n",
       "      <td>3B6B1AA2B94A01D1</td>\n",
       "      <td>classic_bike</td>\n",
       "      <td>2023-12-07 11:49:31.277</td>\n",
       "      <td>2023-12-07 11:56:07.264</td>\n",
       "      <td>46 Ave &amp; 5 St</td>\n",
       "      <td>6286.02</td>\n",
       "      <td>44 Dr &amp; Jackson Ave</td>\n",
       "      <td>6352.01</td>\n",
       "      <td>member</td>\n",
       "      <td>2023-12</td>\n",
       "      <td>2023-12-07</td>\n",
       "      <td>2.1</td>\n",
       "      <td>both</td>\n",
       "    </tr>\n",
       "    <tr>\n",
       "      <th>3</th>\n",
       "      <td>A8F4C66161031B63</td>\n",
       "      <td>electric_bike</td>\n",
       "      <td>2023-12-26 06:17:43.385</td>\n",
       "      <td>2023-12-26 06:24:11.386</td>\n",
       "      <td>W 41 St &amp; 8 Ave</td>\n",
       "      <td>6602.03</td>\n",
       "      <td>Madison Ave &amp; E 26 St</td>\n",
       "      <td>6131.12</td>\n",
       "      <td>member</td>\n",
       "      <td>2023-12</td>\n",
       "      <td>2023-12-26</td>\n",
       "      <td>7.1</td>\n",
       "      <td>both</td>\n",
       "    </tr>\n",
       "    <tr>\n",
       "      <th>4</th>\n",
       "      <td>A6176AFE373FB4C8</td>\n",
       "      <td>electric_bike</td>\n",
       "      <td>2023-12-21 06:58:24.078</td>\n",
       "      <td>2023-12-21 07:04:17.045</td>\n",
       "      <td>E 53 St &amp; 3 Ave</td>\n",
       "      <td>6617.02</td>\n",
       "      <td>1 Ave &amp; E 68 St</td>\n",
       "      <td>6822.09</td>\n",
       "      <td>member</td>\n",
       "      <td>2023-12</td>\n",
       "      <td>2023-12-21</td>\n",
       "      <td>3.6</td>\n",
       "      <td>both</td>\n",
       "    </tr>\n",
       "  </tbody>\n",
       "</table>\n",
       "</div>"
      ],
      "text/plain": [
       "            ride_id  rideable_type               started_at  \\\n",
       "0  5772778972800B87  electric_bike  2023-12-20 06:18:04.187   \n",
       "1  32DD834BEA2ABA5B   classic_bike  2023-12-21 16:15:52.308   \n",
       "2  3B6B1AA2B94A01D1   classic_bike  2023-12-07 11:49:31.277   \n",
       "3  A8F4C66161031B63  electric_bike  2023-12-26 06:17:43.385   \n",
       "4  A6176AFE373FB4C8  electric_bike  2023-12-21 06:58:24.078   \n",
       "\n",
       "                  ended_at start_station_name start_station_id  \\\n",
       "0  2023-12-20 06:24:50.461    W 41 St & 8 Ave          6602.03   \n",
       "1  2023-12-21 16:21:22.124      46 Ave & 5 St          6286.02   \n",
       "2  2023-12-07 11:56:07.264      46 Ave & 5 St          6286.02   \n",
       "3  2023-12-26 06:24:11.386    W 41 St & 8 Ave          6602.03   \n",
       "4  2023-12-21 07:04:17.045    E 53 St & 3 Ave          6617.02   \n",
       "\n",
       "        end_station_name end_station_id member_casual year_month        date  \\\n",
       "0  Madison Ave & E 26 St        6131.12        member    2023-12  2023-12-20   \n",
       "1    44 Dr & Jackson Ave        6352.01        member    2023-12  2023-12-21   \n",
       "2    44 Dr & Jackson Ave        6352.01        member    2023-12  2023-12-07   \n",
       "3  Madison Ave & E 26 St        6131.12        member    2023-12  2023-12-26   \n",
       "4        1 Ave & E 68 St        6822.09        member    2023-12  2023-12-21   \n",
       "\n",
       "   avgTemp _merge  \n",
       "0      2.3   both  \n",
       "1      3.6   both  \n",
       "2      2.1   both  \n",
       "3      7.1   both  \n",
       "4      3.6   both  "
      ]
     },
     "execution_count": 3,
     "metadata": {},
     "output_type": "execute_result"
    }
   ],
   "source": [
    "df.head()"
   ]
  },
  {
   "cell_type": "markdown",
   "id": "9eb525f6-dd2a-497c-8083-89504eedd233",
   "metadata": {},
   "source": [
    "## Aggregate Trip Counts"
   ]
  },
  {
   "cell_type": "code",
   "execution_count": 4,
   "id": "f9a1cae8-4b43-433b-92d5-b738209710db",
   "metadata": {},
   "outputs": [],
   "source": [
    "# Add trip count column\n",
    "df['value'] = 1\n",
    "df_group = df.groupby(['start_station_name', 'end_station_name'])['value'].count().reset_index()"
   ]
  },
  {
   "cell_type": "code",
   "execution_count": 5,
   "id": "92476caf-0532-49fe-950b-d2d1af0477fe",
   "metadata": {},
   "outputs": [
    {
     "data": {
      "text/html": [
       "<div>\n",
       "<style scoped>\n",
       "    .dataframe tbody tr th:only-of-type {\n",
       "        vertical-align: middle;\n",
       "    }\n",
       "\n",
       "    .dataframe tbody tr th {\n",
       "        vertical-align: top;\n",
       "    }\n",
       "\n",
       "    .dataframe thead th {\n",
       "        text-align: right;\n",
       "    }\n",
       "</style>\n",
       "<table border=\"1\" class=\"dataframe\">\n",
       "  <thead>\n",
       "    <tr style=\"text-align: right;\">\n",
       "      <th></th>\n",
       "      <th>start_station_name</th>\n",
       "      <th>end_station_name</th>\n",
       "      <th>value</th>\n",
       "    </tr>\n",
       "  </thead>\n",
       "  <tbody>\n",
       "    <tr>\n",
       "      <th>0</th>\n",
       "      <td>1 Ave &amp; E 110 St</td>\n",
       "      <td>1 Ave &amp; E 110 St</td>\n",
       "      <td>941</td>\n",
       "    </tr>\n",
       "    <tr>\n",
       "      <th>1</th>\n",
       "      <td>1 Ave &amp; E 110 St</td>\n",
       "      <td>1 Ave &amp; E 16 St</td>\n",
       "      <td>2</td>\n",
       "    </tr>\n",
       "    <tr>\n",
       "      <th>2</th>\n",
       "      <td>1 Ave &amp; E 110 St</td>\n",
       "      <td>1 Ave &amp; E 18 St</td>\n",
       "      <td>1</td>\n",
       "    </tr>\n",
       "    <tr>\n",
       "      <th>3</th>\n",
       "      <td>1 Ave &amp; E 110 St</td>\n",
       "      <td>1 Ave &amp; E 30 St</td>\n",
       "      <td>3</td>\n",
       "    </tr>\n",
       "    <tr>\n",
       "      <th>4</th>\n",
       "      <td>1 Ave &amp; E 110 St</td>\n",
       "      <td>1 Ave &amp; E 39 St</td>\n",
       "      <td>3</td>\n",
       "    </tr>\n",
       "    <tr>\n",
       "      <th>...</th>\n",
       "      <td>...</td>\n",
       "      <td>...</td>\n",
       "      <td>...</td>\n",
       "    </tr>\n",
       "    <tr>\n",
       "      <th>1378253</th>\n",
       "      <td>Yankee Ferry Terminal</td>\n",
       "      <td>Wyckoff St &amp; 3 Ave</td>\n",
       "      <td>1</td>\n",
       "    </tr>\n",
       "    <tr>\n",
       "      <th>1378254</th>\n",
       "      <td>Yankee Ferry Terminal</td>\n",
       "      <td>Yankee Ferry Terminal</td>\n",
       "      <td>5293</td>\n",
       "    </tr>\n",
       "    <tr>\n",
       "      <th>1378255</th>\n",
       "      <td>York St &amp; Marin Blvd</td>\n",
       "      <td>Grant Ave &amp; MLK Dr</td>\n",
       "      <td>1</td>\n",
       "    </tr>\n",
       "    <tr>\n",
       "      <th>1378256</th>\n",
       "      <td>York St &amp; Marin Blvd</td>\n",
       "      <td>Grove St PATH</td>\n",
       "      <td>1</td>\n",
       "    </tr>\n",
       "    <tr>\n",
       "      <th>1378257</th>\n",
       "      <td>York St &amp; Marin Blvd</td>\n",
       "      <td>York St &amp; Marin Blvd</td>\n",
       "      <td>1</td>\n",
       "    </tr>\n",
       "  </tbody>\n",
       "</table>\n",
       "<p>1378258 rows × 3 columns</p>\n",
       "</div>"
      ],
      "text/plain": [
       "            start_station_name       end_station_name  value\n",
       "0             1 Ave & E 110 St       1 Ave & E 110 St    941\n",
       "1             1 Ave & E 110 St        1 Ave & E 16 St      2\n",
       "2             1 Ave & E 110 St        1 Ave & E 18 St      1\n",
       "3             1 Ave & E 110 St        1 Ave & E 30 St      3\n",
       "4             1 Ave & E 110 St        1 Ave & E 39 St      3\n",
       "...                        ...                    ...    ...\n",
       "1378253  Yankee Ferry Terminal     Wyckoff St & 3 Ave      1\n",
       "1378254  Yankee Ferry Terminal  Yankee Ferry Terminal   5293\n",
       "1378255   York St & Marin Blvd     Grant Ave & MLK Dr      1\n",
       "1378256   York St & Marin Blvd          Grove St PATH      1\n",
       "1378257   York St & Marin Blvd   York St & Marin Blvd      1\n",
       "\n",
       "[1378258 rows x 3 columns]"
      ]
     },
     "execution_count": 5,
     "metadata": {},
     "output_type": "execute_result"
    }
   ],
   "source": [
    "df_group"
   ]
  },
  {
   "cell_type": "code",
   "execution_count": 6,
   "id": "ec089311-1ea4-48a0-8e2a-391d8aed1d87",
   "metadata": {},
   "outputs": [
    {
     "name": "stdout",
     "output_type": "stream",
     "text": [
      "35001668\n",
      "(35106710, 14)\n"
     ]
    }
   ],
   "source": [
    "print(df_group['value'].sum())\n",
    "print(df.shape)"
   ]
  },
  {
   "cell_type": "code",
   "execution_count": 7,
   "id": "50f12e14-f835-488c-a9ec-d8b693322aa1",
   "metadata": {},
   "outputs": [
    {
     "data": {
      "text/plain": [
       "count    1.378258e+06\n",
       "mean     2.539558e+01\n",
       "std      9.065378e+01\n",
       "min      1.000000e+00\n",
       "25%      1.000000e+00\n",
       "50%      4.000000e+00\n",
       "75%      1.400000e+01\n",
       "max      1.179700e+04\n",
       "Name: value, dtype: float64"
      ]
     },
     "execution_count": 7,
     "metadata": {},
     "output_type": "execute_result"
    }
   ],
   "source": [
    "df_group['value'].describe()"
   ]
  },
  {
   "cell_type": "code",
   "execution_count": 8,
   "id": "5da16914-df3d-46be-957e-08e8c7a4cd66",
   "metadata": {},
   "outputs": [
    {
     "data": {
      "image/png": "[encoded data removed]",
      "text/plain": [
       "<Figure size 640x480 with 1 Axes>"
      ]
     },
     "metadata": {},
     "output_type": "display_data"
    }
   ],
   "source": [
    "df_group['value'].hist(bins = 100)\n",
    "plt.show()"
   ]
  },
  {
   "cell_type": "code",
   "execution_count": 9,
   "id": "636a13c5-3825-4a5a-9c3e-de7348cf3e8a",
   "metadata": {},
   "outputs": [
    {
     "data": {
      "text/plain": [
       "[]"
      ]
     },
     "execution_count": 9,
     "metadata": {},
     "output_type": "execute_result"
    },
    {
     "data": {
      "image/png": "[encoded data removed]",
      "text/plain": [
       "<Figure size 640x480 with 1 Axes>"
      ]
     },
     "metadata": {},
     "output_type": "display_data"
    }
   ],
   "source": [
    "b_plot = df_group.boxplot(column = 'value') \n",
    "b_plot.plot()"
   ]
  },
  {
   "cell_type": "code",
   "execution_count": 10,
   "id": "347c36d4-c5a3-4c5f-8031-36466b7d16ef",
   "metadata": {},
   "outputs": [
    {
     "data": {
      "text/plain": [
       "value\n",
       "1       390317\n",
       "2       183065\n",
       "3       110966\n",
       "4        77280\n",
       "5        57328\n",
       "         ...  \n",
       "2007         1\n",
       "1978         1\n",
       "2068         1\n",
       "1196         1\n",
       "5293         1\n",
       "Name: count, Length: 1886, dtype: int64"
      ]
     },
     "execution_count": 10,
     "metadata": {},
     "output_type": "execute_result"
    }
   ],
   "source": [
    "df_group['value'].sort_index().value_counts()"
   ]
  },
  {
   "cell_type": "code",
   "execution_count": 11,
   "id": "8828ceb0-3a7c-43cd-a842-1f5df8ff37e8",
   "metadata": {},
   "outputs": [
    {
     "data": {
      "text/html": [
       "<div>\n",
       "<style scoped>\n",
       "    .dataframe tbody tr th:only-of-type {\n",
       "        vertical-align: middle;\n",
       "    }\n",
       "\n",
       "    .dataframe tbody tr th {\n",
       "        vertical-align: top;\n",
       "    }\n",
       "\n",
       "    .dataframe thead th {\n",
       "        text-align: right;\n",
       "    }\n",
       "</style>\n",
       "<table border=\"1\" class=\"dataframe\">\n",
       "  <thead>\n",
       "    <tr style=\"text-align: right;\">\n",
       "      <th></th>\n",
       "      <th>start_station_name</th>\n",
       "      <th>end_station_name</th>\n",
       "      <th>value</th>\n",
       "    </tr>\n",
       "  </thead>\n",
       "  <tbody>\n",
       "    <tr>\n",
       "      <th>0</th>\n",
       "      <td>1 Ave &amp; E 110 St</td>\n",
       "      <td>1 Ave &amp; E 110 St</td>\n",
       "      <td>941</td>\n",
       "    </tr>\n",
       "    <tr>\n",
       "      <th>1</th>\n",
       "      <td>1 Ave &amp; E 110 St</td>\n",
       "      <td>1 Ave &amp; E 16 St</td>\n",
       "      <td>2</td>\n",
       "    </tr>\n",
       "    <tr>\n",
       "      <th>2</th>\n",
       "      <td>1 Ave &amp; E 110 St</td>\n",
       "      <td>1 Ave &amp; E 18 St</td>\n",
       "      <td>1</td>\n",
       "    </tr>\n",
       "    <tr>\n",
       "      <th>3</th>\n",
       "      <td>1 Ave &amp; E 110 St</td>\n",
       "      <td>1 Ave &amp; E 30 St</td>\n",
       "      <td>3</td>\n",
       "    </tr>\n",
       "    <tr>\n",
       "      <th>4</th>\n",
       "      <td>1 Ave &amp; E 110 St</td>\n",
       "      <td>1 Ave &amp; E 39 St</td>\n",
       "      <td>3</td>\n",
       "    </tr>\n",
       "  </tbody>\n",
       "</table>\n",
       "</div>"
      ],
      "text/plain": [
       "  start_station_name  end_station_name  value\n",
       "0   1 Ave & E 110 St  1 Ave & E 110 St    941\n",
       "1   1 Ave & E 110 St   1 Ave & E 16 St      2\n",
       "2   1 Ave & E 110 St   1 Ave & E 18 St      1\n",
       "3   1 Ave & E 110 St   1 Ave & E 30 St      3\n",
       "4   1 Ave & E 110 St   1 Ave & E 39 St      3"
      ]
     },
     "execution_count": 11,
     "metadata": {},
     "output_type": "execute_result"
    }
   ],
   "source": [
    "df_group.head()"
   ]
  },
  {
   "cell_type": "code",
   "execution_count": 12,
   "id": "747bb0f0-fed4-418a-8797-9da3f1a01aa4",
   "metadata": {},
   "outputs": [],
   "source": [
    "df_group.rename(columns = {'value': 'trips'}, inplace = True)"
   ]
  },
  {
   "cell_type": "code",
   "execution_count": 13,
   "id": "6029185d-93bb-4df0-ad78-695755f7baa4",
   "metadata": {},
   "outputs": [
    {
     "data": {
      "text/html": [
       "<div>\n",
       "<style scoped>\n",
       "    .dataframe tbody tr th:only-of-type {\n",
       "        vertical-align: middle;\n",
       "    }\n",
       "\n",
       "    .dataframe tbody tr th {\n",
       "        vertical-align: top;\n",
       "    }\n",
       "\n",
       "    .dataframe thead th {\n",
       "        text-align: right;\n",
       "    }\n",
       "</style>\n",
       "<table border=\"1\" class=\"dataframe\">\n",
       "  <thead>\n",
       "    <tr style=\"text-align: right;\">\n",
       "      <th></th>\n",
       "      <th>start_station_name</th>\n",
       "      <th>end_station_name</th>\n",
       "      <th>trips</th>\n",
       "    </tr>\n",
       "  </thead>\n",
       "  <tbody>\n",
       "    <tr>\n",
       "      <th>0</th>\n",
       "      <td>1 Ave &amp; E 110 St</td>\n",
       "      <td>1 Ave &amp; E 110 St</td>\n",
       "      <td>941</td>\n",
       "    </tr>\n",
       "    <tr>\n",
       "      <th>1</th>\n",
       "      <td>1 Ave &amp; E 110 St</td>\n",
       "      <td>1 Ave &amp; E 16 St</td>\n",
       "      <td>2</td>\n",
       "    </tr>\n",
       "    <tr>\n",
       "      <th>2</th>\n",
       "      <td>1 Ave &amp; E 110 St</td>\n",
       "      <td>1 Ave &amp; E 18 St</td>\n",
       "      <td>1</td>\n",
       "    </tr>\n",
       "    <tr>\n",
       "      <th>3</th>\n",
       "      <td>1 Ave &amp; E 110 St</td>\n",
       "      <td>1 Ave &amp; E 30 St</td>\n",
       "      <td>3</td>\n",
       "    </tr>\n",
       "    <tr>\n",
       "      <th>4</th>\n",
       "      <td>1 Ave &amp; E 110 St</td>\n",
       "      <td>1 Ave &amp; E 39 St</td>\n",
       "      <td>3</td>\n",
       "    </tr>\n",
       "    <tr>\n",
       "      <th>...</th>\n",
       "      <td>...</td>\n",
       "      <td>...</td>\n",
       "      <td>...</td>\n",
       "    </tr>\n",
       "    <tr>\n",
       "      <th>1378253</th>\n",
       "      <td>Yankee Ferry Terminal</td>\n",
       "      <td>Wyckoff St &amp; 3 Ave</td>\n",
       "      <td>1</td>\n",
       "    </tr>\n",
       "    <tr>\n",
       "      <th>1378254</th>\n",
       "      <td>Yankee Ferry Terminal</td>\n",
       "      <td>Yankee Ferry Terminal</td>\n",
       "      <td>5293</td>\n",
       "    </tr>\n",
       "    <tr>\n",
       "      <th>1378255</th>\n",
       "      <td>York St &amp; Marin Blvd</td>\n",
       "      <td>Grant Ave &amp; MLK Dr</td>\n",
       "      <td>1</td>\n",
       "    </tr>\n",
       "    <tr>\n",
       "      <th>1378256</th>\n",
       "      <td>York St &amp; Marin Blvd</td>\n",
       "      <td>Grove St PATH</td>\n",
       "      <td>1</td>\n",
       "    </tr>\n",
       "    <tr>\n",
       "      <th>1378257</th>\n",
       "      <td>York St &amp; Marin Blvd</td>\n",
       "      <td>York St &amp; Marin Blvd</td>\n",
       "      <td>1</td>\n",
       "    </tr>\n",
       "  </tbody>\n",
       "</table>\n",
       "<p>1378258 rows × 3 columns</p>\n",
       "</div>"
      ],
      "text/plain": [
       "            start_station_name       end_station_name  trips\n",
       "0             1 Ave & E 110 St       1 Ave & E 110 St    941\n",
       "1             1 Ave & E 110 St        1 Ave & E 16 St      2\n",
       "2             1 Ave & E 110 St        1 Ave & E 18 St      1\n",
       "3             1 Ave & E 110 St        1 Ave & E 30 St      3\n",
       "4             1 Ave & E 110 St        1 Ave & E 39 St      3\n",
       "...                        ...                    ...    ...\n",
       "1378253  Yankee Ferry Terminal     Wyckoff St & 3 Ave      1\n",
       "1378254  Yankee Ferry Terminal  Yankee Ferry Terminal   5293\n",
       "1378255   York St & Marin Blvd     Grant Ave & MLK Dr      1\n",
       "1378256   York St & Marin Blvd          Grove St PATH      1\n",
       "1378257   York St & Marin Blvd   York St & Marin Blvd      1\n",
       "\n",
       "[1378258 rows x 3 columns]"
      ]
     },
     "execution_count": 13,
     "metadata": {},
     "output_type": "execute_result"
    }
   ],
   "source": [
    "df_group"
   ]
  },
  {
   "cell_type": "code",
   "execution_count": 14,
   "id": "8de12ccb-084e-4e8f-b05b-b8a8610bfee5",
   "metadata": {},
   "outputs": [],
   "source": [
    "df_group.to_csv('df_groupby_final.csv')"
   ]
  },
  {
   "cell_type": "code",
   "execution_count": 15,
   "id": "ffa6e56a-3c5d-4f0c-815b-4de14d52d70d",
   "metadata": {},
   "outputs": [
    {
     "data": {
      "text/plain": [
       "Index(['start_station_name', 'end_station_name', 'trips'], dtype='object')"
      ]
     },
     "execution_count": 15,
     "metadata": {},
     "output_type": "execute_result"
    }
   ],
   "source": [
    "df_group.columns"
   ]
  },
  {
   "cell_type": "markdown",
   "id": "2f0e913f-61ca-4ed7-b359-8a44c36b045b",
   "metadata": {},
   "source": [
    "## Import and Merge latitude and longitude data from primary dataset"
   ]
  },
  {
   "cell_type": "code",
   "execution_count": 16,
   "id": "27724f64-17a0-4d80-93bf-d8165807955d",
   "metadata": {},
   "outputs": [
    {
     "name": "stdout",
     "output_type": "stream",
     "text": [
      "Index(['ride_id', 'rideable_type', 'started_at', 'ended_at',\n",
      "       'start_station_name', 'start_station_id', 'end_station_name',\n",
      "       'end_station_id', 'start_lat', 'start_lng', 'end_lat', 'end_lng',\n",
      "       'member_casual', 'year_month'],\n",
      "      dtype='object')\n"
     ]
    }
   ],
   "source": [
    "# Import primary data\n",
    "df_citibike = pd.read_csv('citbike_2023.csv', index_col=0, low_memory=False)\n",
    "\n",
    "print(df_citibike.columns)"
   ]
  },
  {
   "cell_type": "markdown",
   "id": "6a2c1bd7-a12d-48a9-807b-7ab2c98b5b66",
   "metadata": {},
   "source": [
    "### DataFrame with station names + coordinates"
   ]
  },
  {
   "cell_type": "code",
   "execution_count": 17,
   "id": "3b47a7c7-aed7-45b6-b917-82db9e9d4211",
   "metadata": {},
   "outputs": [],
   "source": [
    "# Get the first known coordinate per start station\n",
    "start_coords = df_citibike.groupby('start_station_name')[['start_lat', 'start_lng']].first().reset_index()\n",
    "\n",
    "# Same for end station\n",
    "end_coords = df_citibike.groupby('end_station_name')[['end_lat', 'end_lng']].first().reset_index()\n",
    "\n",
    "# Now do the merges — this will be efficient and safe\n",
    "df_group = pd.merge(df_group, start_coords, how='left', on='start_station_name')\n",
    "df_group = pd.merge(df_group, end_coords, how='left', on='end_station_name')\n"
   ]
  },
  {
   "cell_type": "code",
   "execution_count": 18,
   "id": "5bbaec16-ca1c-491c-b7e3-b867c05032a2",
   "metadata": {},
   "outputs": [
    {
     "name": "stdout",
     "output_type": "stream",
     "text": [
      "(1378258, 7)\n",
      "(2305, 3)\n",
      "(2315, 3)\n"
     ]
    }
   ],
   "source": [
    "print(df_group.shape)\n",
    "print(start_coords.shape)\n",
    "print(end_coords.shape)"
   ]
  },
  {
   "cell_type": "code",
   "execution_count": 19,
   "id": "867aff91-46c3-41d8-b7fa-62dfe8d274a4",
   "metadata": {},
   "outputs": [
    {
     "data": {
      "text/html": [
       "<div>\n",
       "<style scoped>\n",
       "    .dataframe tbody tr th:only-of-type {\n",
       "        vertical-align: middle;\n",
       "    }\n",
       "\n",
       "    .dataframe tbody tr th {\n",
       "        vertical-align: top;\n",
       "    }\n",
       "\n",
       "    .dataframe thead th {\n",
       "        text-align: right;\n",
       "    }\n",
       "</style>\n",
       "<table border=\"1\" class=\"dataframe\">\n",
       "  <thead>\n",
       "    <tr style=\"text-align: right;\">\n",
       "      <th></th>\n",
       "      <th>start_station_name</th>\n",
       "      <th>end_station_name</th>\n",
       "      <th>trips</th>\n",
       "      <th>start_lat</th>\n",
       "      <th>start_lng</th>\n",
       "      <th>end_lat</th>\n",
       "      <th>end_lng</th>\n",
       "    </tr>\n",
       "  </thead>\n",
       "  <tbody>\n",
       "    <tr>\n",
       "      <th>0</th>\n",
       "      <td>1 Ave &amp; E 110 St</td>\n",
       "      <td>1 Ave &amp; E 110 St</td>\n",
       "      <td>941</td>\n",
       "      <td>40.79233</td>\n",
       "      <td>-73.938179</td>\n",
       "      <td>40.792327</td>\n",
       "      <td>-73.938300</td>\n",
       "    </tr>\n",
       "    <tr>\n",
       "      <th>1</th>\n",
       "      <td>1 Ave &amp; E 110 St</td>\n",
       "      <td>1 Ave &amp; E 16 St</td>\n",
       "      <td>2</td>\n",
       "      <td>40.79233</td>\n",
       "      <td>-73.938179</td>\n",
       "      <td>40.732219</td>\n",
       "      <td>-73.981656</td>\n",
       "    </tr>\n",
       "    <tr>\n",
       "      <th>2</th>\n",
       "      <td>1 Ave &amp; E 110 St</td>\n",
       "      <td>1 Ave &amp; E 18 St</td>\n",
       "      <td>1</td>\n",
       "      <td>40.79233</td>\n",
       "      <td>-73.938179</td>\n",
       "      <td>40.733812</td>\n",
       "      <td>-73.980544</td>\n",
       "    </tr>\n",
       "    <tr>\n",
       "      <th>3</th>\n",
       "      <td>1 Ave &amp; E 110 St</td>\n",
       "      <td>1 Ave &amp; E 30 St</td>\n",
       "      <td>3</td>\n",
       "      <td>40.79233</td>\n",
       "      <td>-73.938179</td>\n",
       "      <td>40.741444</td>\n",
       "      <td>-73.975361</td>\n",
       "    </tr>\n",
       "    <tr>\n",
       "      <th>4</th>\n",
       "      <td>1 Ave &amp; E 110 St</td>\n",
       "      <td>1 Ave &amp; E 39 St</td>\n",
       "      <td>3</td>\n",
       "      <td>40.79233</td>\n",
       "      <td>-73.938179</td>\n",
       "      <td>40.747140</td>\n",
       "      <td>-73.971130</td>\n",
       "    </tr>\n",
       "    <tr>\n",
       "      <th>...</th>\n",
       "      <td>...</td>\n",
       "      <td>...</td>\n",
       "      <td>...</td>\n",
       "      <td>...</td>\n",
       "      <td>...</td>\n",
       "      <td>...</td>\n",
       "      <td>...</td>\n",
       "    </tr>\n",
       "    <tr>\n",
       "      <th>1378253</th>\n",
       "      <td>Yankee Ferry Terminal</td>\n",
       "      <td>Wyckoff St &amp; 3 Ave</td>\n",
       "      <td>1</td>\n",
       "      <td>40.68714</td>\n",
       "      <td>-74.016533</td>\n",
       "      <td>40.682755</td>\n",
       "      <td>-73.982586</td>\n",
       "    </tr>\n",
       "    <tr>\n",
       "      <th>1378254</th>\n",
       "      <td>Yankee Ferry Terminal</td>\n",
       "      <td>Yankee Ferry Terminal</td>\n",
       "      <td>5293</td>\n",
       "      <td>40.68714</td>\n",
       "      <td>-74.016533</td>\n",
       "      <td>40.687066</td>\n",
       "      <td>-74.016756</td>\n",
       "    </tr>\n",
       "    <tr>\n",
       "      <th>1378255</th>\n",
       "      <td>York St &amp; Marin Blvd</td>\n",
       "      <td>Grant Ave &amp; MLK Dr</td>\n",
       "      <td>1</td>\n",
       "      <td>40.72869</td>\n",
       "      <td>-74.012003</td>\n",
       "      <td>40.709198</td>\n",
       "      <td>-74.080843</td>\n",
       "    </tr>\n",
       "    <tr>\n",
       "      <th>1378256</th>\n",
       "      <td>York St &amp; Marin Blvd</td>\n",
       "      <td>Grove St PATH</td>\n",
       "      <td>1</td>\n",
       "      <td>40.72869</td>\n",
       "      <td>-74.012003</td>\n",
       "      <td>40.719410</td>\n",
       "      <td>-74.043090</td>\n",
       "    </tr>\n",
       "    <tr>\n",
       "      <th>1378257</th>\n",
       "      <td>York St &amp; Marin Blvd</td>\n",
       "      <td>York St &amp; Marin Blvd</td>\n",
       "      <td>1</td>\n",
       "      <td>40.72869</td>\n",
       "      <td>-74.012003</td>\n",
       "      <td>40.716615</td>\n",
       "      <td>-74.042412</td>\n",
       "    </tr>\n",
       "  </tbody>\n",
       "</table>\n",
       "<p>1378258 rows × 7 columns</p>\n",
       "</div>"
      ],
      "text/plain": [
       "            start_station_name       end_station_name  trips  start_lat  \\\n",
       "0             1 Ave & E 110 St       1 Ave & E 110 St    941   40.79233   \n",
       "1             1 Ave & E 110 St        1 Ave & E 16 St      2   40.79233   \n",
       "2             1 Ave & E 110 St        1 Ave & E 18 St      1   40.79233   \n",
       "3             1 Ave & E 110 St        1 Ave & E 30 St      3   40.79233   \n",
       "4             1 Ave & E 110 St        1 Ave & E 39 St      3   40.79233   \n",
       "...                        ...                    ...    ...        ...   \n",
       "1378253  Yankee Ferry Terminal     Wyckoff St & 3 Ave      1   40.68714   \n",
       "1378254  Yankee Ferry Terminal  Yankee Ferry Terminal   5293   40.68714   \n",
       "1378255   York St & Marin Blvd     Grant Ave & MLK Dr      1   40.72869   \n",
       "1378256   York St & Marin Blvd          Grove St PATH      1   40.72869   \n",
       "1378257   York St & Marin Blvd   York St & Marin Blvd      1   40.72869   \n",
       "\n",
       "         start_lng    end_lat    end_lng  \n",
       "0       -73.938179  40.792327 -73.938300  \n",
       "1       -73.938179  40.732219 -73.981656  \n",
       "2       -73.938179  40.733812 -73.980544  \n",
       "3       -73.938179  40.741444 -73.975361  \n",
       "4       -73.938179  40.747140 -73.971130  \n",
       "...            ...        ...        ...  \n",
       "1378253 -74.016533  40.682755 -73.982586  \n",
       "1378254 -74.016533  40.687066 -74.016756  \n",
       "1378255 -74.012003  40.709198 -74.080843  \n",
       "1378256 -74.012003  40.719410 -74.043090  \n",
       "1378257 -74.012003  40.716615 -74.042412  \n",
       "\n",
       "[1378258 rows x 7 columns]"
      ]
     },
     "execution_count": 19,
     "metadata": {},
     "output_type": "execute_result"
    }
   ],
   "source": [
    "df_group"
   ]
  },
  {
   "cell_type": "code",
   "execution_count": 22,
   "id": "0a23a216-de3b-4c98-823b-e90dfb884f69",
   "metadata": {},
   "outputs": [],
   "source": [
    "df_group.to_csv('df_final_locations_for_map.csv')"
   ]
  },
  {
   "cell_type": "markdown",
   "id": "615342a1-8e91-4b07-96c1-03934a1bbc94",
   "metadata": {},
   "source": [
    "### Map Plot in notebook 2.5.2"
   ]
  },
  {
   "cell_type": "code",
   "execution_count": null,
   "id": "3e63a2e0-7d7d-4b02-8bb8-d072036eeae6",
   "metadata": {},
   "outputs": [],
   "source": []
  }
 ],
 "metadata": {
  "kernelspec": {
   "display_name": "Python (venv_citibike_py310)",
   "language": "python",
   "name": "venv_citibike_py310"
  },
  "language_info": {
   "codemirror_mode": {
    "name": "ipython",
    "version": 3
   },
   "file_extension": ".py",
   "mimetype": "text/x-python",
   "name": "python",
   "nbconvert_exporter": "python",
   "pygments_lexer": "ipython3",
   "version": "3.10.16"
  }
 },
 "nbformat": 4,
 "nbformat_minor": 5
}
