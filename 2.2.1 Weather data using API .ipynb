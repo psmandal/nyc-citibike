{
 "cells": [
  {
   "cell_type": "markdown",
   "id": "c1cb41b5-2d31-442c-b29e-80cff4982236",
   "metadata": {},
   "source": [
    "# NYC weather data using NOAA API"
   ]
  },
  {
   "cell_type": "code",
   "execution_count": 4,
   "id": "0857bdd7-05eb-456f-88df-cc5037e13254",
   "metadata": {},
   "outputs": [],
   "source": [
    "# import libraries\n",
    "import pandas as pd \n",
    "import numpy as np\n",
    "import os \n",
    "import requests\n",
    "import json\n",
    "from datetime import datetime\n",
    "import shutil # To export all files into a single csv folder\n",
    "import matplotlib.pyplot as plt"
   ]
  },
  {
   "cell_type": "code",
   "execution_count": 5,
   "id": "a4035944-367d-45b8-a633-ec98a12854e1",
   "metadata": {},
   "outputs": [
    {
     "name": "stdout",
     "output_type": "stream",
     "text": [
      "Weather data saved successfully!\n"
     ]
    }
   ],
   "source": [
    "# NOAA Token and Station ID\n",
    "Token = 'hyZLaVsWXkBoTHhTXSkGoXXwQHTtemLV'\n",
    "station_id = 'GHCND:USW00014732'\n",
    "\n",
    "# API Request\n",
    "url = 'https://www.ncdc.noaa.gov/cdo-web/api/v2/data'\n",
    "headers = {'token': Token}\n",
    "params = {\n",
    "    'datasetid': 'GHCND',\n",
    "    'datatypeid': 'TAVG',\n",
    "    'stationid': station_id,\n",
    "    'startdate': '2023-01-01',\n",
    "    'enddate': '2023-12-31',\n",
    "    'limit': 1000,\n",
    "    'units': 'metric'\n",
    "}\n",
    "\n",
    "response = requests.get(url, headers=headers, params=params)\n",
    "\n",
    "# Parse JSON\n",
    "data = response.json()\n",
    "results = data['results']\n",
    "\n",
    "# Create DataFrame\n",
    "dates = [item['date'] for item in results]\n",
    "temps = [item['value'] for item in results]\n",
    "\n",
    "df_temp = pd.DataFrame({\n",
    "    'date': pd.to_datetime(dates),\n",
    "    'avgTemp': temps\n",
    "})\n",
    "\n",
    "# Save to CSV\n",
    "df_temp.to_csv('nyc_weather_2023.csv', index=False)\n",
    "\n",
    "print(\"Weather data saved successfully!\")"
   ]
  },
  {
   "cell_type": "code",
   "execution_count": 6,
   "id": "5e57573e-7d1c-4c75-be60-5b9e8036fe78",
   "metadata": {},
   "outputs": [
    {
     "data": {
      "text/html": [
       "<div>\n",
       "<style scoped>\n",
       "    .dataframe tbody tr th:only-of-type {\n",
       "        vertical-align: middle;\n",
       "    }\n",
       "\n",
       "    .dataframe tbody tr th {\n",
       "        vertical-align: top;\n",
       "    }\n",
       "\n",
       "    .dataframe thead th {\n",
       "        text-align: right;\n",
       "    }\n",
       "</style>\n",
       "<table border=\"1\" class=\"dataframe\">\n",
       "  <thead>\n",
       "    <tr style=\"text-align: right;\">\n",
       "      <th></th>\n",
       "      <th>date</th>\n",
       "      <th>avgTemp</th>\n",
       "    </tr>\n",
       "  </thead>\n",
       "  <tbody>\n",
       "    <tr>\n",
       "      <th>360</th>\n",
       "      <td>2023-12-27</td>\n",
       "      <td>6.7</td>\n",
       "    </tr>\n",
       "    <tr>\n",
       "      <th>361</th>\n",
       "      <td>2023-12-28</td>\n",
       "      <td>9.5</td>\n",
       "    </tr>\n",
       "    <tr>\n",
       "      <th>362</th>\n",
       "      <td>2023-12-29</td>\n",
       "      <td>9.8</td>\n",
       "    </tr>\n",
       "    <tr>\n",
       "      <th>363</th>\n",
       "      <td>2023-12-30</td>\n",
       "      <td>7.2</td>\n",
       "    </tr>\n",
       "    <tr>\n",
       "      <th>364</th>\n",
       "      <td>2023-12-31</td>\n",
       "      <td>5.4</td>\n",
       "    </tr>\n",
       "  </tbody>\n",
       "</table>\n",
       "</div>"
      ],
      "text/plain": [
       "          date  avgTemp\n",
       "360 2023-12-27      6.7\n",
       "361 2023-12-28      9.5\n",
       "362 2023-12-29      9.8\n",
       "363 2023-12-30      7.2\n",
       "364 2023-12-31      5.4"
      ]
     },
     "execution_count": 6,
     "metadata": {},
     "output_type": "execute_result"
    }
   ],
   "source": [
    "df_temp.tail()"
   ]
  },
  {
   "cell_type": "code",
   "execution_count": 7,
   "id": "2aaaf568-8f2c-47ab-ae39-66670dce9cc6",
   "metadata": {},
   "outputs": [
    {
     "data": {
      "text/plain": [
       "date       datetime64[ns]\n",
       "avgTemp           float64\n",
       "dtype: object"
      ]
     },
     "execution_count": 7,
     "metadata": {},
     "output_type": "execute_result"
    }
   ],
   "source": [
    "df_temp.dtypes"
   ]
  },
  {
   "cell_type": "code",
   "execution_count": null,
   "id": "f03611e1-a08c-4ef3-90d0-a90e6aa9f6b0",
   "metadata": {},
   "outputs": [],
   "source": []
  }
 ],
 "metadata": {
  "kernelspec": {
   "display_name": "Python [conda env:venv_citibike] *",
   "language": "python",
   "name": "conda-env-venv_citibike-py"
  },
  "language_info": {
   "codemirror_mode": {
    "name": "ipython",
    "version": 3
   },
   "file_extension": ".py",
   "mimetype": "text/x-python",
   "name": "python",
   "nbconvert_exporter": "python",
   "pygments_lexer": "ipython3",
   "version": "3.13.3"
  }
 },
 "nbformat": 4,
 "nbformat_minor": 5
}
